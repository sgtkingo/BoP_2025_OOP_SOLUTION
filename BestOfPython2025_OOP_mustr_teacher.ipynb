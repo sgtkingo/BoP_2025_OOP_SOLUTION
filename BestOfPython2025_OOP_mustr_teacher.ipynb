{
 "cells": [
  {
   "cell_type": "markdown",
   "metadata": {
    "id": "1vYW2A0FLJrD"
   },
   "source": [
    "# Vítejte v kurzu Best Of Python 2024!"
   ]
  },
  {
   "cell_type": "markdown",
   "metadata": {
    "id": "XohAwHUoLPqd"
   },
   "source": [
    "## 🐍Python: Jazyk kterým mluví všichni\n",
    "\n",
    "Python není jen programovací jazyk – je to univerzální nástroj, kterým můžeme mluvit s počítači jednoduše, efektivně a čitelně. Bez ohledu na to, zda jste datový vědec, vývojář her, nebo jen nadšenec či student, který chce automatizovat každodenní úkoly, Python má něco pro každého.\n",
    "\n",
    "Jeho síla spočívá v jednoduché syntaxi, obrovské komunitě a nekonečném množství knihoven. Python je jazyk, který bourá bariéry mezi začátečníky a profesionály, a umožňuje každému rychle přejít od nápadu k funkčnímu programu. V tomto workshopu si ukážeme, proč je Python jazykem budoucnosti, a jak jej můžete využít pro své projekty už dnes.\n",
    "\n",
    "Připraveni objevit to nejlepší z Pythonu? Jdeme na to! 🚀"
   ]
  },
  {
   "cell_type": "code",
   "execution_count": 1,
   "metadata": {
    "colab": {
     "base_uri": "https://localhost:8080/"
    },
    "executionInfo": {
     "elapsed": 7,
     "status": "ok",
     "timestamp": 1734597861829,
     "user": {
      "displayName": "Jiri Konecny",
      "userId": "17507778614090359072"
     },
     "user_tz": -60
    },
    "id": "Q5P2hgX2Fj02",
    "outputId": "ab2b8f46-4a11-4209-d95b-7d06bad99d17"
   },
   "outputs": [
    {
     "name": "stdout",
     "output_type": "stream",
     "text": [
      "Hello World!\n"
     ]
    }
   ],
   "source": [
    "print(\"Hello World!\")"
   ]
  },
  {
   "cell_type": "markdown",
   "metadata": {
    "id": "XtJInkkvNMBe"
   },
   "source": [
    "## 🧠Google Colab: Platforma pro vědce, studenty i nadšence\n",
    "\n",
    "Google Colab je revoluční nástroj, který posouvá možnosti programování a analýzy dat na novou úroveň. Ať už jste student, vědec nebo jen někdo, kdo chce experimentovat s Pythonem, Colab vám poskytne vše potřebné – zdarma, přímo v prohlížeči a bez nutnosti složité instalace.\n",
    "\n",
    "**S Colabem můžete:**\n",
    "\n",
    "*   Psát a spouštět Python kód na serverech Googlu.\n",
    "*   Využívat výkonný hardware, jako jsou GPU a TPU, pro náročné výpočty.\n",
    "*   Sdílet své projekty s ostatními stejně snadno, jako sdílíte dokumenty v Google Docs.\n",
    "*   Je to perfektní platforma, kde se setkává jednoduchost, kolaborace a síla moderní technologie.\n",
    "\n",
    "\n",
    "V našem workshopu si ukážeme, jak z Colabu vytěžit maximum a začít tvořit od prvního řádku kódu.💪\n",
    "\n",
    "Stačí vám jen účet Google a chuť objevovat. Tak pojďme na to! 🌐💻"
   ]
  },
  {
   "cell_type": "markdown",
   "metadata": {
    "id": "WVi_oQc2TOGa"
   },
   "source": [
    "### *TIPS:*\n",
    "\n",
    "\n",
    "\n",
    "*   `CTRL+ENTER` = spusť aktuální buňku\n",
    "*   `SHIFT+ENTER` = ulož a zavři textovou buňku\n",
    "*   `CTRL+F9` = spusť vše - od začátku do konce\n",
    "*   `CTRL+M B `= vytvoř novou kodovou buňku\n",
    "\n",
    "\n"
   ]
  },
  {
   "cell_type": "markdown",
   "metadata": {
    "id": "6Db-k7sV7Kg2"
   },
   "source": [
    "# **Byl jednou jeden hrdina...**\n",
    "\n",
    "Celý tento worshop bude veden ve stylu DrD 🐲💎, budeme vytvýřet hrdiny a simulovat herní svět... Bude to vlastně takový příběh - tvůj příběh. 📖"
   ]
  },
  {
   "cell_type": "markdown",
   "metadata": {
    "id": "-g4dKYPA7G0w"
   },
   "source": [
    "### **📦Task**: Inventář\n",
    "\n",
    "Představ si, že jsi hrdina ve fantasy světě. Tvůj **inventář** je místo, kde si ukládáš všechny své poklady, zbraně a vybavení. Tvým úkolem je vytvořit inventář jako **slovník** (`{}`) v Pythonu, kde každý předmět bude mít svůj název a počet. Inventář pojmenuj jako `inventory`.\n",
    "\n",
    "Můžeš přidat cokoli, co by měl mít tvůj hrdina – kouzelné amulety, šípy nebo dokonce sušenky! 🍪🗡️"
   ]
  },
  {
   "cell_type": "code",
   "execution_count": null,
   "metadata": {
    "id": "Xi0w-DSU7yl7"
   },
   "outputs": [],
   "source": [
    "# Vytvoř si svůj inventář jako slovník\n",
    "inventory = {}\n",
    "\n",
    "# Doplň do něj položky, vždy ve tvaru: <název:str>:<množství:int>"
   ]
  },
  {
   "cell_type": "code",
   "execution_count": 22,
   "metadata": {},
   "outputs": [
    {
     "data": {
      "text/plain": [
       "{'jablka': 5,\n",
       " 'Rezavá dýka': 1,\n",
       " 'Zlatý prsten (falešný)': 1,\n",
       " 'Kniha (prázdná)': 1}"
      ]
     },
     "execution_count": 22,
     "metadata": {},
     "output_type": "execute_result"
    }
   ],
   "source": [
    "\"\"\"\n",
    "SOLUTION!\n",
    "\"\"\"\n",
    "inventory = {}\n",
    "inventory[\"jablka\"] = 5\n",
    "inventory[\"Rezavá dýka\"] = 1\n",
    "inventory[\"Zlatý prsten (falešný)\"] = 1\n",
    "inventory[\"Kniha (prázdná)\"] = 1\n",
    "inventory\n"
   ]
  },
  {
   "cell_type": "markdown",
   "metadata": {
    "id": "banquI6y7zMq"
   },
   "source": [
    "**hint** 💡: Myslíš že jde jako položku slovníku uložit třeba `list`? Nebo dokonce další slovník (`dict`)? Zkus to!"
   ]
  },
  {
   "cell_type": "code",
   "execution_count": null,
   "metadata": {
    "id": "k78cRBsO73zi"
   },
   "outputs": [],
   "source": [
    "# Přidej do inventáře sáček s krystaly - jako list"
   ]
  },
  {
   "cell_type": "code",
   "execution_count": 24,
   "metadata": {},
   "outputs": [
    {
     "data": {
      "text/plain": [
       "{'jablka': 5,\n",
       " 'Rezavá dýka': 1,\n",
       " 'Zlatý prsten (falešný)': 1,\n",
       " 'Kniha (prázdná)': 1,\n",
       " 'krystaly': ['azurit', 'safír', 'smaragd', 'rubín', 'diamant']}"
      ]
     },
     "execution_count": 24,
     "metadata": {},
     "output_type": "execute_result"
    }
   ],
   "source": [
    "\"\"\"\n",
    "SOLUTION!\n",
    "\"\"\"\n",
    "inventory[\"krystaly\"] = [\"azurit\", \"safír\", \"smaragd\", \"rubín\", \"diamant\"]\n",
    "inventory"
   ]
  },
  {
   "cell_type": "markdown",
   "metadata": {
    "id": "xID3jCz--pHf"
   },
   "source": [
    "### **🧙‍♂️Task**: Nakonfiguruj hrdinu!\n",
    "\n",
    "Inventář už máš done ✅ z předchozího úkolu, poďme k němu vytvořit hrdinu!\n",
    "\n",
    "1. Tvůj hrdina by měl být vytvořen jako slovník s názvem `hero` s těmi to atributy:\n",
    "  *  **name**: Jméno hrdiny, které ho definuje.\n",
    "    -  Hodnota: Text (např. \"Thalion\").\n",
    "  *  **race**: Fantastická rasa, do které hrdina patří.\n",
    "    -  Hodnota: Text (např. \"Elf\").\n",
    "  *  class: Třída, určující dovednosti a roli hrdiny v boji.\n",
    "    -  Hodnota: Text (např. \"Ranger\").\n",
    "  *  **level**: Úroveň zkušeností, ukazuje pokročilost hrdiny.\n",
    "    -  Hodnota: Celé číslo (1–10).\n",
    "  *  **health**: Aktuální zdraví hrdiny, max 100.\n",
    "    -  Hodnota: Celé číslo (např. 80).\n",
    "  *  **strength**: Fyzická síla hrdiny.\n",
    "    -  Hodnota: Celé číslo (1–10).\n",
    "  *  **agility**: Obratnost a rychlost hrdiny.\n",
    "    -  Hodnota: Celé číslo (1–10).\n",
    "  *  **intelligence**: Schopnost strategického myšlení a obecné inteligence.\n",
    "    -  Hodnota: Celé číslo (1–10).\n",
    "  *  **inventory**: Slovník obsahující předměty, které hrdina nosí.\n",
    "    -  Hodnota: Tvůj inventář\n",
    "  *  abilities: Seznam speciálních schopností hrdiny.\n",
    "    -  Hodnota: List textů (např. [\"Eagle Eye\", \"Rapid Shot\"]).\n",
    "  *  morale: Postoj hrdiny k morálce a světu.\n",
    "    -  Hodnota: Text (např. \"Neutral Good\").\n",
    "\n",
    "\n",
    "2. Všechny atributy krom `inventory` načti z klávesnice pomocí vhodného `input`.\n",
    "3. Vypiš hrdinu pomocí `printu`.\n"
   ]
  },
  {
   "cell_type": "code",
   "execution_count": null,
   "metadata": {
    "id": "BJuOYekHM5-w"
   },
   "outputs": [],
   "source": [
    "# Tvůj kod\n",
    "hero = {}\n",
    "\n",
    "# Přidávám atributy\n",
    "hero[\"name\"] = input(\"Zadej jméno hrdiny: \")\n",
    "hero[\"level\"] = int(input(\"Zadej level hrdiny: \"))\n",
    "# atd..."
   ]
  },
  {
   "cell_type": "code",
   "execution_count": 36,
   "metadata": {},
   "outputs": [
    {
     "data": {
      "text/plain": [
       "{'name': 'Florur',\n",
       " 'level': 14,\n",
       " 'health': 100,\n",
       " 'strength': 5,\n",
       " 'agility': 8,\n",
       " 'intelligence': 8,\n",
       " 'inventory': {'jablka': 5,\n",
       "  'Rezavá dýka': 1,\n",
       "  'Zlatý prsten (falešný)': 1,\n",
       "  'Kniha (prázdná)': 1,\n",
       "  'krystaly': ['azurit', 'safír', 'smaragd', 'rubín', 'diamant']}}"
      ]
     },
     "execution_count": 36,
     "metadata": {},
     "output_type": "execute_result"
    }
   ],
   "source": [
    "\"\"\"\n",
    "SOLUTION!\n",
    "\"\"\"\n",
    "hero = {}\n",
    "hero[\"name\"] = input(\"Zadej jméno hrdiny: \")\n",
    "hero[\"level\"] = int(input(\"Zadej level hrdiny: \"))\n",
    "hero[\"health\"] = int(input(\"Zadej zdraví hrdiny: \"))\n",
    "hero[\"strength\"] = int(input(\"Zadej sílu hrdiny: \"))\n",
    "hero[\"agility\"] = int(input(\"Zadej obratnost hrdiny: \"))\n",
    "hero[\"intelligence\"] = int(input(\"Zadej inteligenci hrdiny: \"))\n",
    "hero[\"inventory\"] = inventory\n",
    "hero\n"
   ]
  },
  {
   "cell_type": "markdown",
   "metadata": {
    "id": "UnRUROHRM0Of"
   },
   "source": [
    "## ➡️**Importujeme!**\n",
    "Jedna ze superschopností pythonu je možnost importů knihoven - ale co je to vlastně knihovna?\n",
    "\n",
    "**Knihovna** v Pythonu je sbírka předpřipravených funkcí, tříd a modulů, které usnadňují řešení konkrétních úloh (např. práce s daty, matematické výpočty nebo tvorba grafů). Díky knihovnám **nemusíš znovu programovat často používané funkce**.\n",
    "\n",
    "Knihovna se **importuje** pomocí klíčového slova `import`. Například:"
   ]
  },
  {
   "cell_type": "code",
   "execution_count": null,
   "metadata": {
    "colab": {
     "base_uri": "https://localhost:8080/"
    },
    "executionInfo": {
     "elapsed": 211,
     "status": "ok",
     "timestamp": 1734529486595,
     "user": {
      "displayName": "Jiri Konecny",
      "userId": "17507778614090359072"
     },
     "user_tz": -60
    },
    "id": "GknCyDUM0zeG",
    "outputId": "7b1f298f-54a3-48a5-f7db-bf0a678ed52b"
   },
   "outputs": [
    {
     "data": {
      "text/plain": [
       "1"
      ]
     },
     "execution_count": 74,
     "metadata": {},
     "output_type": "execute_result"
    }
   ],
   "source": [
    "import random  # Importuje knihovnu pro náhodné generování\n",
    "random.randint(1,6) #Hod kostkou"
   ]
  },
  {
   "cell_type": "code",
   "execution_count": null,
   "metadata": {
    "colab": {
     "base_uri": "https://localhost:8080/",
     "height": 35
    },
    "executionInfo": {
     "elapsed": 228,
     "status": "ok",
     "timestamp": 1734529509856,
     "user": {
      "displayName": "Jiri Konecny",
      "userId": "17507778614090359072"
     },
     "user_tz": -60
    },
    "id": "kHSA1Kxl01jC",
    "outputId": "2860cab4-fcf0-4d5d-fd63-7b364c95b418"
   },
   "outputs": [
    {
     "data": {
      "application/vnd.google.colaboratory.intrinsic+json": {
       "type": "string"
      },
      "text/plain": [
       "'papír'"
      ]
     },
     "execution_count": 75,
     "metadata": {},
     "output_type": "execute_result"
    }
   ],
   "source": [
    "# Teď můžu používat random úplně všude\n",
    "random.choice([\"kámen\", \"nůžky\", \"papír\"])"
   ]
  },
  {
   "cell_type": "markdown",
   "metadata": {
    "id": "hhITvYa_HnN1"
   },
   "source": [
    "### **🎲Task**: RNG\n",
    "\n",
    "Vygeneruj náhodné číslo pomocí `random`:\n",
    "[Python docs: random](https://docs.python.org/3/library/random.html)"
   ]
  },
  {
   "cell_type": "code",
   "execution_count": null,
   "metadata": {
    "id": "jiVQNOdRH6FE"
   },
   "outputs": [],
   "source": [
    "# Chci náhodné číslo mezi A a B, kde A < B, obě jsou v celá čísla v N"
   ]
  },
  {
   "cell_type": "code",
   "execution_count": 26,
   "metadata": {},
   "outputs": [
    {
     "data": {
      "text/plain": [
       "3"
      ]
     },
     "execution_count": 26,
     "metadata": {},
     "output_type": "execute_result"
    }
   ],
   "source": [
    "\"\"\"\n",
    "SOLUTION!\n",
    "\"\"\"\n",
    "a = 1\n",
    "b = 10\n",
    "random.randint(a, b)  # Náhodné číslo mezi A a B (včetně A a B)"
   ]
  },
  {
   "cell_type": "code",
   "execution_count": 29,
   "metadata": {},
   "outputs": [
    {
     "data": {
      "text/plain": [
       "-5"
      ]
     },
     "execution_count": 29,
     "metadata": {},
     "output_type": "execute_result"
    }
   ],
   "source": [
    "\"\"\"\n",
    "SOLUTION!\n",
    "\"\"\"\n",
    "a = 1\n",
    "b = -10\n",
    "\n",
    "if b < a:\n",
    "    a, b = b, a  # Prohodím A a B, aby bylo A < B\n",
    "\n",
    "random.randint(a, b)  # Náhodné číslo mezi A a B (včetně A a B)"
   ]
  },
  {
   "cell_type": "code",
   "execution_count": null,
   "metadata": {
    "id": "fxGM4N97_PUQ"
   },
   "outputs": [],
   "source": [
    "# Prozkoumej knihovnu random a otestuj co umí"
   ]
  },
  {
   "cell_type": "markdown",
   "metadata": {
    "id": "twnIIpJE6Xqb"
   },
   "source": [
    "***Lokální import***\n",
    "\n",
    "Pomocí `import` lze importovat jak globální package (pipy) tak lokální - python soubory.\n",
    "\n",
    "1. Vytvoř ve stejném, adresáři jako je tento notebkok python soubor - např. \"dice.py\"\n",
    "2. V něm **vytvoř funkci** která bude používat random a **simulovat hod kostkou** - funkci pojmenuj `roll()`\n",
    "3. Importuj \"dice.py\" jako modul `dice` \n",
    "4. Otestuj naimporovanou funkci `roll()` pomocí `dice.roll()`"
   ]
  },
  {
   "cell_type": "code",
   "execution_count": null,
   "metadata": {
    "id": "KsILS4P_6tVC"
   },
   "outputs": [],
   "source": [
    "# Tvoje kostka zde\n"
   ]
  },
  {
   "cell_type": "code",
   "execution_count": null,
   "metadata": {},
   "outputs": [
    {
     "data": {
      "text/plain": [
       "4"
      ]
     },
     "execution_count": 30,
     "metadata": {},
     "output_type": "execute_result"
    }
   ],
   "source": [
    "\"\"\"\n",
    "SOLUTION!\n",
    "\"\"\"\n",
    "import dice\n",
    "dice.roll(6)  # Hoď kostkou 1x6"
   ]
  },
  {
   "cell_type": "markdown",
   "metadata": {
    "id": "zh6p-GSnDueA"
   },
   "source": [
    "### **⚔️Task**: Souboj\n",
    "\n",
    "Tvůj hrdina může na své cestě potkat spoustu **nebezpečí** 💀. Podmínky jsou skvělý nástroj pro simulaci boje a náhodných překážek!\n",
    "\n",
    "Nasimuluj souboj proti nějakému nepříteli - jakému to nechám na tvé fantazii.\n",
    "\n",
    "**Pravidla:**\n",
    "-  Ten kdo má vyšší `level` útočí, ten kdo má nižší se brání.\n",
    "-  `strength` je hodnota útoku, `agility` hodnota obrany, pokud je `strength` > `agility` je protivník zasažen za (`strength` - `agility`) * hod kostkou (pomocí `random`) životů.\n",
    "- (*Volitelné*): použij `random.choice `a vyber druh útoku `[\"head\", \"body\", \"legs\"]`, kde spočítej šanci na zásah a přidej bonus/postih k útoku (útok*bonus): `{\"head\":{\"chance\":25, \"bonus\":2.0}, \"body\":{\"chance\":75, \"bonus\":1.0}, \"legs\":{\"chance\":99, \"bonus\":0.5}}`\n",
    "- Pokud protivníkovi který byl zasažen po zásahu zbývá méně než 10 životů, vzdává se a prohrál, pokud se ubránil tak se nic nestane.\n",
    "- Pokud tvůj hrdina **vyhraje**, přepiš si vše z inventáře nepřítele k sobě.\n",
    "- Souboj je v tomto případě jen jeden - nepoužívej cykly."
   ]
  },
  {
   "cell_type": "code",
   "execution_count": 21,
   "metadata": {
    "id": "r24y0GgPLZBo"
   },
   "outputs": [
    {
     "data": {
      "text/plain": [
       "{'name': 'Goroth the Cruel',\n",
       " 'race': 'Orc',\n",
       " 'class': 'Warrior',\n",
       " 'level': 8,\n",
       " 'health': 144,\n",
       " 'strength': 5,\n",
       " 'agility': 3,\n",
       " 'intelligence': 1,\n",
       " 'inventory': {'weapon': 'Spiked Club',\n",
       "  'armor': 'Rusty Iron Armor',\n",
       "  'gold': 30},\n",
       " 'abilities': ['Rage Strike', 'War Cry'],\n",
       " 'alignment': 'Chaotic Evil'}"
      ]
     },
     "execution_count": 21,
     "metadata": {},
     "output_type": "execute_result"
    }
   ],
   "source": [
    "import random  # Importuje knihovnu pro náhodné generování\n",
    "\n",
    "enemy = {\n",
    "    \"name\": \"Goroth the Cruel\",  # Jméno nepřítele (text)\n",
    "    \"race\": \"Orc\",  # Rasa nepřítele (text, např. Orc, Demon, Undead)\n",
    "    \"class\": \"Warrior\",  # Třída nepřítele (text, např. Warrior, Berserker)\n",
    "    \"level\": random.randint(1,10),  # Úroveň nepřítele (celé číslo, 1–10)\n",
    "    \"health\": random.randint(50,150),  # Zdraví nepřítele (celé číslo, max 150)\n",
    "    \"strength\": random.randint(5,10),  # Síla (celé číslo, 1–10)\n",
    "    \"agility\": random.randint(1,3),  # Obratnost (celé číslo, 1–10)\n",
    "    \"intelligence\": 1,  # Inteligence (celé číslo, 1–10)\n",
    "    \"inventory\": {  # Inventář jako slovník\n",
    "        \"weapon\": \"Spiked Club\",  # Zbraň nepřítele (text)\n",
    "        \"armor\": \"Rusty Iron Armor\",  # Brnění (text)\n",
    "        \"gold\": random.randint(15,30)  # Počet zlaťáků, které může hrdina získat (celé číslo)\n",
    "    },\n",
    "    \"abilities\": [\"Rage Strike\", \"War Cry\"],  # Schopnosti nepřítele (list textů)\n",
    "    \"alignment\": \"Chaotic Evil\",  # Postoj nepřítele k morálce (text)\n",
    "}\n",
    "enemy"
   ]
  },
  {
   "cell_type": "code",
   "execution_count": null,
   "metadata": {
    "id": "o20RAqVDM3Bd"
   },
   "outputs": [],
   "source": [
    "# Tvůj kod"
   ]
  },
  {
   "cell_type": "code",
   "execution_count": null,
   "metadata": {},
   "outputs": [],
   "source": [
    "\"\"\"\n",
    "SOLUTION!\n",
    "\"\"\"\n",
    "if hero[\"level\"] > enemy[\"level\"]:\n",
    "  print(f\"Hero {hero['name']} útočí proti {enemy['name']}\")\n",
    "  if hero[\"strength\"] > enemy[\"agility\"]:\n",
    "    attack = (hero[\"strength\"] - enemy[\"agility\"]) * random.randint(1,6)\n",
    "    enemy[\"health\"] -= attack\n",
    "    print(f\"Enemy {enemy['name']} zasažen za {attack} životů, zbývá mu {enemy['health']} životů...\")\n",
    "    if enemy[\"health\"] < 10:\n",
    "      print(f\"Enemy {enemy['name']} je vážně zraněn a je v bezvědomí...\")\n",
    "      print(f\"Hero {hero['name']} získává inventář {enemy['name']}: {enemy['inventory']}\")\n",
    "      hero[\"inventory\"].update(enemy[\"inventory\"]) #Převzetí inventáře pomocí update\n",
    "  else:\n",
    "    print(f\"Enemy {enemy['name']} se brání proti {hero['name']}\")\n",
    "else:\n",
    "  print(f\"Hero {hero['name']} se brání proti {enemy['name']}\")"
   ]
  },
  {
   "cell_type": "markdown",
   "metadata": {
    "id": "PWqWALvM7to5"
   },
   "source": [
    "### **❓Task**: Generátor Náhodných Přezdívek\n",
    "Tvůj hrdina už si leččím prošel, je načase mu vytvořit předívku...\n",
    "\n",
    "Vytvoř tři **listy**:\n",
    "\n",
    "*  `adjectives ` - přídávná jména (Maxi, Šílený, Plešatý...)\n",
    "*  `creatures` - zvířata a tvorové (Unicorn, T-Rex, Dragon...)\n",
    "*  `emoji` - bude emoji (😎, ⚔️, 🍩...)\n",
    "\n",
    "Použij tři vnořené `for` cykly a udělej generátor přezdívek.\n",
    "\n",
    "\n",
    "\n",
    "```\n",
    "for ...\n",
    "  for ...\n",
    "    for ...\n",
    "      print(...)\n",
    "```\n",
    "\n",
    "Poté si vyber tu nejlepší a přidej ji svému hrdinovi jako atribut \"`nick`\".\n",
    "\n"
   ]
  },
  {
   "cell_type": "code",
   "execution_count": null,
   "metadata": {
    "id": "9f64Ld6nNELj"
   },
   "outputs": [],
   "source": [
    "# Tvůj kod"
   ]
  },
  {
   "cell_type": "code",
   "execution_count": null,
   "metadata": {},
   "outputs": [
    {
     "name": "stdout",
     "output_type": "stream",
     "text": [
      "brave dragon 🗡️\n",
      "brave dragon 🛡️\n",
      "brave dragon ⚔️\n",
      "brave dragon 🏹\n",
      "brave dragon 🧙‍♂️\n",
      "brave troll 🗡️\n",
      "brave troll 🛡️\n",
      "brave troll ⚔️\n",
      "brave troll 🏹\n",
      "brave troll 🧙‍♂️\n",
      "brave goblin 🗡️\n",
      "brave goblin 🛡️\n",
      "brave goblin ⚔️\n",
      "brave goblin 🏹\n",
      "brave goblin 🧙‍♂️\n",
      "brave skeleton 🗡️\n",
      "brave skeleton 🛡️\n",
      "brave skeleton ⚔️\n",
      "brave skeleton 🏹\n",
      "brave skeleton 🧙‍♂️\n",
      "brave vampire 🗡️\n",
      "brave vampire 🛡️\n",
      "brave vampire ⚔️\n",
      "brave vampire 🏹\n",
      "brave vampire 🧙‍♂️\n",
      "cunning dragon 🗡️\n",
      "cunning dragon 🛡️\n",
      "cunning dragon ⚔️\n",
      "cunning dragon 🏹\n",
      "cunning dragon 🧙‍♂️\n",
      "cunning troll 🗡️\n",
      "cunning troll 🛡️\n",
      "cunning troll ⚔️\n",
      "cunning troll 🏹\n",
      "cunning troll 🧙‍♂️\n",
      "cunning goblin 🗡️\n",
      "cunning goblin 🛡️\n",
      "cunning goblin ⚔️\n",
      "cunning goblin 🏹\n",
      "cunning goblin 🧙‍♂️\n",
      "cunning skeleton 🗡️\n",
      "cunning skeleton 🛡️\n",
      "cunning skeleton ⚔️\n",
      "cunning skeleton 🏹\n",
      "cunning skeleton 🧙‍♂️\n",
      "cunning vampire 🗡️\n",
      "cunning vampire 🛡️\n",
      "cunning vampire ⚔️\n",
      "cunning vampire 🏹\n",
      "cunning vampire 🧙‍♂️\n",
      "fierce dragon 🗡️\n",
      "fierce dragon 🛡️\n",
      "fierce dragon ⚔️\n",
      "fierce dragon 🏹\n",
      "fierce dragon 🧙‍♂️\n",
      "fierce troll 🗡️\n",
      "fierce troll 🛡️\n",
      "fierce troll ⚔️\n",
      "fierce troll 🏹\n",
      "fierce troll 🧙‍♂️\n",
      "fierce goblin 🗡️\n",
      "fierce goblin 🛡️\n",
      "fierce goblin ⚔️\n",
      "fierce goblin 🏹\n",
      "fierce goblin 🧙‍♂️\n",
      "fierce skeleton 🗡️\n",
      "fierce skeleton 🛡️\n",
      "fierce skeleton ⚔️\n",
      "fierce skeleton 🏹\n",
      "fierce skeleton 🧙‍♂️\n",
      "fierce vampire 🗡️\n",
      "fierce vampire 🛡️\n",
      "fierce vampire ⚔️\n",
      "fierce vampire 🏹\n",
      "fierce vampire 🧙‍♂️\n",
      "wise dragon 🗡️\n",
      "wise dragon 🛡️\n",
      "wise dragon ⚔️\n",
      "wise dragon 🏹\n",
      "wise dragon 🧙‍♂️\n",
      "wise troll 🗡️\n",
      "wise troll 🛡️\n",
      "wise troll ⚔️\n",
      "wise troll 🏹\n",
      "wise troll 🧙‍♂️\n",
      "wise goblin 🗡️\n",
      "wise goblin 🛡️\n",
      "wise goblin ⚔️\n",
      "wise goblin 🏹\n",
      "wise goblin 🧙‍♂️\n",
      "wise skeleton 🗡️\n",
      "wise skeleton 🛡️\n",
      "wise skeleton ⚔️\n",
      "wise skeleton 🏹\n",
      "wise skeleton 🧙‍♂️\n",
      "wise vampire 🗡️\n",
      "wise vampire 🛡️\n",
      "wise vampire ⚔️\n",
      "wise vampire 🏹\n",
      "wise vampire 🧙‍♂️\n",
      "swift dragon 🗡️\n",
      "swift dragon 🛡️\n",
      "swift dragon ⚔️\n",
      "swift dragon 🏹\n",
      "swift dragon 🧙‍♂️\n",
      "swift troll 🗡️\n",
      "swift troll 🛡️\n",
      "swift troll ⚔️\n",
      "swift troll 🏹\n",
      "swift troll 🧙‍♂️\n",
      "swift goblin 🗡️\n",
      "swift goblin 🛡️\n",
      "swift goblin ⚔️\n",
      "swift goblin 🏹\n",
      "swift goblin 🧙‍♂️\n",
      "swift skeleton 🗡️\n",
      "swift skeleton 🛡️\n",
      "swift skeleton ⚔️\n",
      "swift skeleton 🏹\n",
      "swift skeleton 🧙‍♂️\n",
      "swift vampire 🗡️\n",
      "swift vampire 🛡️\n",
      "swift vampire ⚔️\n",
      "swift vampire 🏹\n",
      "swift vampire 🧙‍♂️\n"
     ]
    }
   ],
   "source": [
    "\"\"\"\n",
    "SOLUTION!\n",
    "\"\"\"\n",
    "adjectives = [\"brave\", \"cunning\", \"fierce\", \"wise\", \"swift\"]\n",
    "creatures = [\"dragon\", \"troll\", \"goblin\", \"skeleton\", \"vampire\"]\n",
    "emoji = [\"🗡️\", \"🛡️\", \"⚔️\", \"🏹\", \"🧙‍♂️\"]\n",
    "\n",
    "for a in adjectives:\n",
    "    for c in creatures:\n",
    "        for e in emoji:\n",
    "            print(f\"{a} {c} {e}\")"
   ]
  },
  {
   "cell_type": "markdown",
   "metadata": {
    "id": "3uDBqcfD8NM4"
   },
   "source": [
    "### **💪Task**: Oživ svého hrdinu\n",
    "Nyní je načase dát tvému hrdinovi život - přiřadit mu akce a naprogramovat jejich chování! 💃🕺\n",
    "\n",
    "Naprogramuj alespoň tři základní akce hrdiny:\n",
    "- `step(hero:dict, distance:int, direction:str)` - tato funkce bude simulovat to že hrdina někam jde, zkus vypočítat jak dlouho mu to bude trvat a vypiš to, vzorec: `time=distance/hero[\"agility\"]`. Tento čas vrať jako vypočtenou hodnotu.\n",
    "\n",
    "- `hide(hero:dict, time:int)` - tato akce bude simulovat že se hrdina skrývá, zkus vypočítat jeho viditelnost a nápadnost: `visibility=(hero[\"inteligence\"]*hero[\"level\"])/100`. Tuto viditelnost vrať jako vypočtenou hodnotu.\n",
    "\n",
    "- `pick(hero:dict, item:str, quantity:int)` - tato funkce bude simulovat že hrdina něco sebral, přidej mu to do inventáře `hero[\"inventory\"]`\n"
   ]
  },
  {
   "cell_type": "code",
   "execution_count": null,
   "metadata": {
    "id": "ruHvnXXpNCs1"
   },
   "outputs": [],
   "source": [
    "# Tvůj kod"
   ]
  },
  {
   "cell_type": "code",
   "execution_count": 37,
   "metadata": {},
   "outputs": [],
   "source": [
    "\"\"\"\n",
    "SOLUTION!\n",
    "\"\"\"\n",
    "def step(hero:dict, distance:int, direction:str=\"forward\") -> None:\n",
    "    \"\"\"\n",
    "    Funkce pro krok hrdiny.\n",
    "    :param hero: Hrdina\n",
    "    :param distance: Vzdálenost\n",
    "    :param direction: Směr\n",
    "    \"\"\"\n",
    "    time=distance/hero[\"agility\"]\n",
    "    if time < 1:\n",
    "        time = 1\n",
    "    print(f\"{hero['name']} se posunul {distance} kroků {direction} za {time} sekund.\")\n",
    "\n",
    "def hide(hero:dict, time:int) -> None:\n",
    "    \"\"\"\n",
    "    Funkce pro skrytí hrdiny.\n",
    "    :param hero: Hrdina\n",
    "    \"\"\"\n",
    "    visibility=(hero[\"intelligence\"]*hero[\"level\"])/100\n",
    "    if visibility < 1:\n",
    "        visibility = 1\n",
    "    print(f\"{hero['name']} se skryl na {time} sekund. Viditelnost: {visibility} %\")\n",
    "\n",
    "def pick(hero:dict, item:str, quantity:int):\n",
    "    \"\"\"\n",
    "    Funkce pro sbírání předmětů.\n",
    "    :param hero: Hrdina\n",
    "    :param item: Předmět\n",
    "    :param quantity: Množství\n",
    "    \"\"\"\n",
    "    if item in hero[\"inventory\"]:\n",
    "        hero[\"inventory\"][item] += quantity\n",
    "    else:\n",
    "        hero[\"inventory\"][item] = quantity\n",
    "    print(f\"{hero['name']} nasbíral {quantity} {item}. Celkem má {hero['inventory'][item]} {item}.\")"
   ]
  },
  {
   "cell_type": "code",
   "execution_count": 39,
   "metadata": {},
   "outputs": [
    {
     "name": "stdout",
     "output_type": "stream",
     "text": [
      "Florur se posunul 5 kroků left za 1 sekund.\n",
      "Florur se skryl na 10 sekund. Viditelnost: 1.12 %\n",
      "Florur nasbíral 2 jablka. Celkem má 7 jablka.\n"
     ]
    }
   ],
   "source": [
    "\"\"\"\n",
    "SOLUTION!\n",
    "\"\"\"\n",
    "step(hero, 5, \"left\")\n",
    "hide(hero, 10)\n",
    "pick(hero, \"jablka\", 2)"
   ]
  },
  {
   "cell_type": "markdown",
   "metadata": {
    "id": "fwg2xyVpMkJ3"
   },
   "source": [
    "## **Class & Objects**\n",
    "Představ si, že máš kouzelnou hůlku, kterou můžeš vytvořit své vlastní „věci“ – třeba draka, jídlo nebo vesmírnou loď (všechny tyto tři příklady jsou na stejné úrovni). To je síla tříd a objektů v Pythonu! Třídy jsou jako plány, podle kterých můžeš vyrábět objekty – tvé virtuální postavy, předměty nebo cokoli si představíš.\n",
    "\n",
    "Chceš, aby tvůj kód měl vlastní osobnost, vlastnosti a dovednosti? Pak je čas vstoupit do světa tříd a objektů! 🚀🐉"
   ]
  },
  {
   "cell_type": "markdown",
   "metadata": {
    "id": "6DILPr3Wik2x"
   },
   "source": [
    "**Třída** = kostra objektu, jeho konstrukční vlastnosti - **blueprint** 📄\n",
    "\n",
    "**Objekt** = samostatný objekt postavený pomocí blueprintu jeho třídy - objekt je \"živý\""
   ]
  },
  {
   "cell_type": "code",
   "execution_count": 2,
   "metadata": {
    "id": "I4OerEEhnCHD"
   },
   "outputs": [],
   "source": [
    "# Udělejme blueprint skřeta\n",
    "# Goblin je název třídy, měl by abstraktně vyjadřovat co třída reprezentuje\n",
    "class Goblin:\n",
    "    # Tohle jsou vlastnosti které třídá má, můžete si libovolné přidat\n",
    "    # V případě skřeta (Goblina) to bude zatím jen jméno a věk\n",
    "    name = \"\"\n",
    "    age = 0\n",
    "    # Toto je konstruktor - pokaždé když vytváříš z třídy objekt tak se init zavolá\n",
    "    # Všimni si že má vstupní parametry\n",
    "    # K parametrům můžeme vnutit datové typy\n",
    "    def __init__(self, name:str, age:int):\n",
    "        # Self je odkaz na sebesama - vyjadřuje to že chceme setnout/getnout existující vlastnosti třídy (objektu)\n",
    "        self.name = name\n",
    "        self.age = age\n",
    "\n",
    "    # Součastí třídy jsou i funkce - jen jim zde říkáme metody\n",
    "    def scream(self):\n",
    "        print(f\"{self.name} screaming!\")"
   ]
  },
  {
   "cell_type": "code",
   "execution_count": 3,
   "metadata": {
    "id": "V3XSfznUkcse"
   },
   "outputs": [],
   "source": [
    "# Takto vytvořím objekt randomGoblin - ten je odteď \"živý\"\n",
    "randomGoblin = Goblin(\"Skrii\", 12)"
   ]
  },
  {
   "cell_type": "code",
   "execution_count": 4,
   "metadata": {
    "colab": {
     "base_uri": "https://localhost:8080/",
     "height": 36
    },
    "executionInfo": {
     "elapsed": 7,
     "status": "ok",
     "timestamp": 1743599549466,
     "user": {
      "displayName": "Jiri Konecny",
      "userId": "17507778614090359072"
     },
     "user_tz": -120
    },
    "id": "iBfw0Nuwko6I",
    "outputId": "6e15e692-cc3f-49ad-eb56-230a953e76a8"
   },
   "outputs": [
    {
     "data": {
      "text/plain": [
       "'Skrii'"
      ]
     },
     "execution_count": 4,
     "metadata": {},
     "output_type": "execute_result"
    }
   ],
   "source": [
    "# Pojďme se na něj podívat z blízka\n",
    "randomGoblin.name"
   ]
  },
  {
   "cell_type": "code",
   "execution_count": 5,
   "metadata": {
    "colab": {
     "base_uri": "https://localhost:8080/"
    },
    "executionInfo": {
     "elapsed": 14,
     "status": "ok",
     "timestamp": 1743599550515,
     "user": {
      "displayName": "Jiri Konecny",
      "userId": "17507778614090359072"
     },
     "user_tz": -120
    },
    "id": "2DrA8tKVk1bK",
    "outputId": "60fccfed-be81-4445-cda9-463871f81f4f"
   },
   "outputs": [
    {
     "data": {
      "text/plain": [
       "12"
      ]
     },
     "execution_count": 5,
     "metadata": {},
     "output_type": "execute_result"
    }
   ],
   "source": [
    "randomGoblin.age"
   ]
  },
  {
   "cell_type": "code",
   "execution_count": 6,
   "metadata": {
    "colab": {
     "base_uri": "https://localhost:8080/"
    },
    "executionInfo": {
     "elapsed": 7,
     "status": "ok",
     "timestamp": 1743599551068,
     "user": {
      "displayName": "Jiri Konecny",
      "userId": "17507778614090359072"
     },
     "user_tz": -120
    },
    "id": "WuS5aeLMk3IQ",
    "outputId": "e2dc8c19-3823-4982-94b0-81b2ef9d8843"
   },
   "outputs": [
    {
     "name": "stdout",
     "output_type": "stream",
     "text": [
      "Skrii screaming!\n"
     ]
    }
   ],
   "source": [
    "# Zkusme zavřeštět\n",
    "randomGoblin.scream()"
   ]
  },
  {
   "cell_type": "code",
   "execution_count": 7,
   "metadata": {
    "colab": {
     "base_uri": "https://localhost:8080/",
     "height": 36
    },
    "executionInfo": {
     "elapsed": 3,
     "status": "ok",
     "timestamp": 1743599552266,
     "user": {
      "displayName": "Jiri Konecny",
      "userId": "17507778614090359072"
     },
     "user_tz": -120
    },
    "id": "yY20nK4nk6wW",
    "outputId": "e35f1fad-4736-4cfe-8625-0958ee8bde66"
   },
   "outputs": [
    {
     "data": {
      "text/plain": [
       "'Bobik'"
      ]
     },
     "execution_count": 7,
     "metadata": {},
     "output_type": "execute_result"
    }
   ],
   "source": [
    "# Samože objekt můžeme měnit\n",
    "randomGoblin.name = \"Bobik\"\n",
    "randomGoblin.name"
   ]
  },
  {
   "cell_type": "code",
   "execution_count": 8,
   "metadata": {
    "colab": {
     "base_uri": "https://localhost:8080/"
    },
    "executionInfo": {
     "elapsed": 4,
     "status": "ok",
     "timestamp": 1743599553267,
     "user": {
      "displayName": "Jiri Konecny",
      "userId": "17507778614090359072"
     },
     "user_tz": -120
    },
    "id": "ynnU5U5ck-ok",
    "outputId": "65b222e9-38a7-4ca1-e29b-6178d625bdae"
   },
   "outputs": [
    {
     "name": "stdout",
     "output_type": "stream",
     "text": [
      "Bobik screaming!\n"
     ]
    }
   ],
   "source": [
    "randomGoblin.scream()"
   ]
  },
  {
   "cell_type": "code",
   "execution_count": 9,
   "metadata": {
    "id": "q33OzluHlBkE"
   },
   "outputs": [
    {
     "name": "stdout",
     "output_type": "stream",
     "text": [
      "Skřet1 screaming!\n",
      "Skřet2 screaming!\n",
      "Skřet3 screaming!\n"
     ]
    }
   ],
   "source": [
    "# Vytvoř tvého skřeta!\n",
    "goblin1 = Goblin(\"Skřet1\", 5)\n",
    "goblin2 = Goblin(\"Skřet2\", 10)\n",
    "goblin3 = Goblin(\"Skřet3\", 15)\n",
    "\n",
    "goblin1.scream()\n",
    "goblin2.scream()\n",
    "goblin3.scream()"
   ]
  },
  {
   "cell_type": "markdown",
   "metadata": {
    "id": "v9s7xrNHlLmD"
   },
   "source": [
    "### 👴 Dědění\n",
    "Třídy mají skvělou vlastnost (krom jiných) a tou je **dědičnost**! Znamená to že pokud chceš na svém původním blueprintu (třídě) stavět nějakou jeho rozšířenou verzi, prostě jej zdědíš a je to!\n",
    "\n",
    "👀 **Sleduj :**"
   ]
  },
  {
   "cell_type": "code",
   "execution_count": 10,
   "metadata": {
    "id": "8EhLaRBOl0_q"
   },
   "outputs": [],
   "source": [
    "# Zdědím z doga a vytvořím konkrétní plemeno\n",
    "# Tady přibyly závorky do kterých dám název třídy z které chci dědit\n",
    "# WaterGolbin teď umí vše co Goblin, ale má i něco navíc: barvu a umí plavat!\n",
    "class WaterGolbin(Goblin):\n",
    "  color = \"blue\"\n",
    "\n",
    "  def swim(self):\n",
    "    print(f\"{self.name} swim!\")"
   ]
  },
  {
   "cell_type": "code",
   "execution_count": 11,
   "metadata": {
    "id": "7ICH9aSTmlNA"
   },
   "outputs": [],
   "source": [
    "# Konstruktor se zachoval z Doga\n",
    "randomWaterGoblin = WaterGolbin(\"Gruu\", 20)"
   ]
  },
  {
   "cell_type": "code",
   "execution_count": 12,
   "metadata": {
    "colab": {
     "base_uri": "https://localhost:8080/",
     "height": 36
    },
    "executionInfo": {
     "elapsed": 45,
     "status": "ok",
     "timestamp": 1743599561348,
     "user": {
      "displayName": "Jiri Konecny",
      "userId": "17507778614090359072"
     },
     "user_tz": -120
    },
    "id": "H6ifJWQSm51B",
    "outputId": "923f6ed5-f369-4678-ff23-52a14da7999c"
   },
   "outputs": [
    {
     "data": {
      "text/plain": [
       "'Gruu'"
      ]
     },
     "execution_count": 12,
     "metadata": {},
     "output_type": "execute_result"
    }
   ],
   "source": [
    "randomWaterGoblin.name"
   ]
  },
  {
   "cell_type": "code",
   "execution_count": 13,
   "metadata": {
    "colab": {
     "base_uri": "https://localhost:8080/"
    },
    "executionInfo": {
     "elapsed": 7,
     "status": "ok",
     "timestamp": 1743599562901,
     "user": {
      "displayName": "Jiri Konecny",
      "userId": "17507778614090359072"
     },
     "user_tz": -120
    },
    "id": "zr-SDpTdm_Qd",
    "outputId": "8aa28087-c2c7-4632-8035-a8fa178caa67"
   },
   "outputs": [
    {
     "name": "stdout",
     "output_type": "stream",
     "text": [
      "Gruu swim!\n"
     ]
    }
   ],
   "source": [
    "randomWaterGoblin.swim()"
   ]
  },
  {
   "cell_type": "code",
   "execution_count": 14,
   "metadata": {
    "colab": {
     "base_uri": "https://localhost:8080/"
    },
    "executionInfo": {
     "elapsed": 3,
     "status": "ok",
     "timestamp": 1743599567810,
     "user": {
      "displayName": "Jiri Konecny",
      "userId": "17507778614090359072"
     },
     "user_tz": -120
    },
    "id": "bETai5cqnI2b",
    "outputId": "6d7ad7e3-dc10-4cc3-c955-a24ba9b848ad"
   },
   "outputs": [
    {
     "name": "stdout",
     "output_type": "stream",
     "text": [
      "Gruu screaming!\n"
     ]
    }
   ],
   "source": [
    "randomWaterGoblin.scream()"
   ]
  },
  {
   "cell_type": "code",
   "execution_count": null,
   "metadata": {
    "id": "OtEdXlgsnK8S"
   },
   "outputs": [],
   "source": [
    "# Vytvoř vlastní plemeno a dej mu nové vlastnosti!\n"
   ]
  },
  {
   "cell_type": "code",
   "execution_count": 3,
   "metadata": {},
   "outputs": [],
   "source": [
    "\"\"\"\n",
    "SOLUTION!\n",
    "\"\"\"\n",
    "class MudGolbin(Goblin):\n",
    "  color = \"brown\"\n",
    "\n",
    "  def swim(self):\n",
    "    print(f\"{self.name} swim in mud!\")\n",
    "    \n",
    "  def dig(self):\n",
    "    print(f\"{self.name} dig in mud!\")\n",
    "    \n",
    "  def run(self):\n",
    "    print(f\"{self.name} run in mud!\")\n",
    "    \n",
    "mudGoblin = MudGolbin(\"Muglin\", 30)"
   ]
  },
  {
   "cell_type": "code",
   "execution_count": 4,
   "metadata": {},
   "outputs": [
    {
     "name": "stdout",
     "output_type": "stream",
     "text": [
      "Muglin dig in mud!\n"
     ]
    }
   ],
   "source": [
    "mudGoblin.dig()"
   ]
  },
  {
   "cell_type": "code",
   "execution_count": 5,
   "metadata": {},
   "outputs": [
    {
     "name": "stdout",
     "output_type": "stream",
     "text": [
      "Muglin run in mud!\n"
     ]
    }
   ],
   "source": [
    "mudGoblin.run()"
   ]
  },
  {
   "cell_type": "markdown",
   "metadata": {
    "id": "lZ2fBHlSNdde"
   },
   "source": [
    "### **Task**: Make your hero great again!\n",
    "Teď, když už všecho umíš přichází závěrečná fáze našeho workshopu - předělej **svého hrdinu** do **třídy** a \"oživ\" ho!\n",
    "Přidej mu všechny **atributy** jako `vlastnosti` třídy, přidej mu akce jako metody - včetně akce `fight` ve které použij svůj kod z podmínek!"
   ]
  },
  {
   "cell_type": "code",
   "execution_count": null,
   "metadata": {
    "id": "rZ9EtEFXNdJs"
   },
   "outputs": [],
   "source": [
    "\"\"\"\n",
    "SOLUTION!\n",
    "\"\"\"\n",
    "\n",
    "# Tvůj kod\n",
    "class Hero():\n",
    "    name = \"\"\n",
    "    level = 0\n",
    "    health = 0\n",
    "    \n",
    "    attributes = {}\n",
    "    \n",
    "    inventory = {}\n",
    "    \n",
    "    def __init__(self, name:str, level:int, health:int, attributes:dict, inventory:dict):\n",
    "        self.name = name\n",
    "        self.level = level\n",
    "        self.health = health\n",
    "        self.attributes = attributes\n",
    "        self.inventory = inventory\n",
    "    \n",
    "    def __str__(self):\n",
    "        return f\"Hero: {self.name}, Level: {self.level}, Health: {self.health}, Attributes: {self.attributes}, Inventory: {self.inventory}\"\n"
   ]
  },
  {
   "cell_type": "code",
   "execution_count": null,
   "metadata": {},
   "outputs": [],
   "source": [
    "\"\"\"\n",
    "SOLUTION!\n",
    "\"\"\"\n",
    "\n",
    "attributes = {\n",
    "    \"strength\": 10,\n",
    "    \"agility\": 8,\n",
    "    \"intelligence\": 5\n",
    "}\n",
    "\n",
    "inventory = {\n",
    "    \"gold\": 100,\n",
    "    \"potions\": 5,\n",
    "    \"weapons\": [\"sword\", \"bow\"]\n",
    "}\n",
    "\n",
    "hero = Hero(\"Hero\", 1, 100, attributes, inventory)"
   ]
  },
  {
   "cell_type": "code",
   "execution_count": 34,
   "metadata": {},
   "outputs": [
    {
     "name": "stdout",
     "output_type": "stream",
     "text": [
      "Hero: Hero, Level: 1, Health: 100, Attributes: {'strength': 10, 'agility': 8, 'intelligence': 5}, Inventory: {'gold': 100, 'potions': 5, 'weapons': ['sword', 'bow']}\n"
     ]
    }
   ],
   "source": [
    "print(hero)"
   ]
  },
  {
   "cell_type": "markdown",
   "metadata": {
    "id": "LCMy7yd-mdCt"
   },
   "source": [
    "### ⚔️ Interakce\n",
    "\n",
    "Super, teď máš svého hrdinu zhmotněného jako objekt! Nyní si pojďme ukázat jak může interagovat s okolím či jiným hrdinou..."
   ]
  },
  {
   "cell_type": "code",
   "execution_count": 6,
   "metadata": {
    "id": "Q7Ink6rQmyY7"
   },
   "outputs": [],
   "source": [
    "# Ukážeme si to na našem skřetovi, jen ho lehce modifikujeme...\n",
    "\n",
    "class Goblin:\n",
    "    name = \"\"\n",
    "    age = 0\n",
    "    # Přidám mu inventář\n",
    "    inventory = {}\n",
    "\n",
    "    def __init__(self, name:str, age:int):\n",
    "        self.name = name\n",
    "        self.age = age\n",
    "\n",
    "    def scream(self):\n",
    "        print(f\"{self.name} screaming!\")\n",
    "\n",
    "    # Přibudou mu nové schopnosti\n",
    "    def fight(self, enemy):\n",
    "        print(f\"{self.name} fighting {enemy.name}!\")\n",
    "\n",
    "    def pick(self, item:str, quantity:int):\n",
    "        self.inventory[item] = quantity"
   ]
  },
  {
   "cell_type": "code",
   "execution_count": 7,
   "metadata": {
    "id": "OpdSPE1Bo3bs"
   },
   "outputs": [],
   "source": [
    "# Vytvořím dva (!) skřety\n",
    "golbin1 = Goblin(\"Skrii\", 15)\n",
    "golbin2 = Goblin(\"Kruu\", 22)"
   ]
  },
  {
   "cell_type": "code",
   "execution_count": 8,
   "metadata": {
    "colab": {
     "base_uri": "https://localhost:8080/"
    },
    "executionInfo": {
     "elapsed": 6,
     "status": "ok",
     "timestamp": 1743599844412,
     "user": {
      "displayName": "Jiri Konecny",
      "userId": "17507778614090359072"
     },
     "user_tz": -120
    },
    "id": "Yov75tu5pLs7",
    "outputId": "05232d57-c609-4efc-bf3f-77299126ee4f"
   },
   "outputs": [
    {
     "name": "stdout",
     "output_type": "stream",
     "text": [
      "Skrii fighting Kruu!\n"
     ]
    }
   ],
   "source": [
    "# A takto je mezi sebou mohu nechat bojovat\n",
    "golbin1.fight(golbin2)"
   ]
  },
  {
   "cell_type": "code",
   "execution_count": 9,
   "metadata": {
    "colab": {
     "base_uri": "https://localhost:8080/"
    },
    "executionInfo": {
     "elapsed": 7,
     "status": "ok",
     "timestamp": 1743600015874,
     "user": {
      "displayName": "Jiri Konecny",
      "userId": "17507778614090359072"
     },
     "user_tz": -120
    },
    "id": "I4nwRkNPpkhy",
    "outputId": "5dec57a9-c1d3-4e61-a242-1d81cb553e5e"
   },
   "outputs": [
    {
     "data": {
      "text/plain": [
       "{'old_potato': 3}"
      ]
     },
     "execution_count": 9,
     "metadata": {},
     "output_type": "execute_result"
    }
   ],
   "source": [
    "# Takto může intearagovat se světem\n",
    "tresure = {\"sword\":1, \"coin\":9, \"old_potato\":5}\n",
    "golbin1.pick(\"old_potato\", 3)\n",
    "\n",
    "# Nezapomeň picnutou položku smazat z pokladu\n",
    "tresure[\"old_potato\"] -= 3\n",
    "\n",
    "# Zkontroluj inventář\n",
    "golbin1.inventory"
   ]
  },
  {
   "cell_type": "code",
   "execution_count": null,
   "metadata": {
    "colab": {
     "base_uri": "https://localhost:8080/"
    },
    "executionInfo": {
     "elapsed": 4,
     "status": "ok",
     "timestamp": 1743600028738,
     "user": {
      "displayName": "Jiri Konecny",
      "userId": "17507778614090359072"
     },
     "user_tz": -120
    },
    "id": "PP8nM1c2qPwY",
    "outputId": "280fe4e5-cc7d-4ebe-814d-35e78c9a628c"
   },
   "outputs": [
    {
     "data": {
      "text/plain": [
       "{'sword': 1, 'coin': 9, 'old_potato': 2}"
      ]
     },
     "execution_count": 46,
     "metadata": {},
     "output_type": "execute_result"
    }
   ],
   "source": [
    "# Zbyly jen 2 staré brambory...\n",
    "tresure"
   ]
  },
  {
   "cell_type": "markdown",
   "metadata": {},
   "source": [
    "### Task: Udělej hrdinu interaktivního\n",
    "\n",
    "Podobným způsobem uprav svého hrdinu tak, aby byl interaktivní! 🎮 Zamysle se zda by akce nešli nějak vylepšit..."
   ]
  },
  {
   "cell_type": "code",
   "execution_count": null,
   "metadata": {},
   "outputs": [],
   "source": [
    "# Upravený hrdina"
   ]
  },
  {
   "cell_type": "code",
   "execution_count": 11,
   "metadata": {},
   "outputs": [],
   "source": [
    "\"\"\"\n",
    "SOLUTION!\n",
    "\"\"\"\n",
    "class Hero():\n",
    "    name = \"\"\n",
    "    level = 0\n",
    "    health = 0\n",
    "    \n",
    "    attributes = {}\n",
    "    \n",
    "    inventory = {}\n",
    "    \n",
    "    def __init__(self, name:str, level:int, health:int, attributes:dict, inventory:dict):\n",
    "        self.name = name\n",
    "        self.level = level\n",
    "        self.health = health\n",
    "        self.attributes = attributes\n",
    "        self.inventory = inventory\n",
    "    \n",
    "    def __str__(self):\n",
    "        return f\"Hero: {self.name}, Level: {self.level}, Health: {self.health}, Attributes: {self.attributes}, Inventory: {self.inventory}\"\n",
    "    \n",
    "    # Nové schopnosti\n",
    "    def fight(self, enemy):\n",
    "        print(f\"{self.name} fighting {enemy.name}!\")\n",
    "\n",
    "    def pick(self, item:str, quantity:int):\n",
    "        self.inventory[item] = quantity\n"
   ]
  },
  {
   "cell_type": "code",
   "execution_count": null,
   "metadata": {
    "id": "Yw47OU3xkneh"
   },
   "outputs": [],
   "source": [
    "# Vytvoř několik hrdinů, každý z nich bude jedinečný\n"
   ]
  },
  {
   "cell_type": "code",
   "execution_count": 14,
   "metadata": {},
   "outputs": [],
   "source": [
    "\"\"\"\n",
    "SOLUTION!\n",
    "\"\"\"\n",
    "attributes = {\n",
    "    \"strength\": 10,\n",
    "    \"agility\": 8,\n",
    "    \"intelligence\": 5\n",
    "}\n",
    "\n",
    "inventory = {\n",
    "    \"gold\": 100,\n",
    "    \"potions\": 5,\n",
    "    \"weapons\": [\"sword\", \"bow\"]\n",
    "}\n",
    "hero = Hero(\"Arcidus\", 8, 88, attributes, inventory)\n"
   ]
  },
  {
   "cell_type": "code",
   "execution_count": 12,
   "metadata": {},
   "outputs": [],
   "source": [
    "\"\"\"\n",
    "SOLUTION!\n",
    "\"\"\"\n",
    "attributes = {\n",
    "    \"strength\": 18,\n",
    "    \"agility\": 18,\n",
    "    \"intelligence\": 2\n",
    "}\n",
    "\n",
    "inventory = {\n",
    "    \"gold\": 10000,\n",
    "    \"potions\": 100,\n",
    "    \"weapons\": [\"Sword of Truth\", \"Cursed Dagger of DarkLord\"]  \n",
    "}\n",
    "npc = Hero(\"Fruit Merchant\", 36, 520, attributes, inventory)"
   ]
  },
  {
   "cell_type": "code",
   "execution_count": null,
   "metadata": {
    "id": "o-Y1EBjGkunA"
   },
   "outputs": [],
   "source": [
    "# Otestuj hrdiny a akci! Nech je mezi sebou bojovat, sbírat předměty, vykonávat akce...\n"
   ]
  },
  {
   "cell_type": "code",
   "execution_count": 18,
   "metadata": {},
   "outputs": [
    {
     "name": "stdout",
     "output_type": "stream",
     "text": [
      "Arcidus fighting Fruit Merchant!\n"
     ]
    }
   ],
   "source": [
    "\"\"\"\n",
    "SOLUTION!\n",
    "\"\"\"\n",
    "hero.fight(npc)"
   ]
  },
  {
   "cell_type": "code",
   "execution_count": null,
   "metadata": {},
   "outputs": [
    {
     "data": {
      "text/plain": [
       "{'gold': 1000, 'potions': 5, 'weapons': ['sword', 'bow']}"
      ]
     },
     "execution_count": 19,
     "metadata": {},
     "output_type": "execute_result"
    }
   ],
   "source": [
    "\"\"\"\n",
    "SOLUTION!\n",
    "\"\"\"\n",
    "hero.pick(\"gold\", 1000)\n",
    "hero.inventory"
   ]
  },
  {
   "cell_type": "markdown",
   "metadata": {
    "id": "TXFuatTgkQdg"
   },
   "source": [
    "### ⏺️ Abstrakce a interface\n",
    "\n",
    "Dědičnost je fajn ale neřeší všechny naše problémy. Občas potřebujeme měnit schopnosti a morfologii daného objektu, podle toho co má umět a jak má působit. Například meč je ostrý a může řezat, kdežto palice je těžká a muže drtit - a přesto jsou obě zbraně a lze s nimi udeřit."
   ]
  },
  {
   "cell_type": "code",
   "execution_count": null,
   "metadata": {
    "id": "Iv9Dmzi1kQAR"
   },
   "outputs": [],
   "source": [
    "from abc import ABC, abstractmethod\n",
    "\n",
    "# Abstraktní třída pro všechny zbraně\n",
    "class Weapon(ABC):\n",
    "\n",
    "    # Abstraktní metoda pro úder (např. pěstí, palicí)\n",
    "    @abstractmethod\n",
    "    def bash(self):\n",
    "        pass\n",
    "\n",
    "    # Abstraktní metoda pro švihnutí (např. mečem)\n",
    "    @abstractmethod\n",
    "    def swing(self):\n",
    "        pass\n",
    "\n",
    "# Třída reprezentující meč, dědí z Weapon\n",
    "class Sword(Weapon):\n",
    "\n",
    "    def bash(self):\n",
    "        # Meč není ideální na úder, ale lze jím zasáhnout rukojetí\n",
    "        print(\"You bash with the pommel of your sword.\")\n",
    "\n",
    "    def swing(self):\n",
    "        # Typický útok pro meč\n",
    "        print(\"You swing your sword in a clean arc.\")\n",
    "\n",
    "# Třída reprezentující palici, dědí z Weapon\n",
    "class Club(Weapon):\n",
    "\n",
    "    def bash(self):\n",
    "        # Hlavní způsob útoku palicí\n",
    "        print(\"You bash with your heavy club.\")\n",
    "\n",
    "    def swing(self):\n",
    "        # I palici lze rozmáchnout\n",
    "        print(\"You swing your club with brute force.\")\n",
    "\n"
   ]
  },
  {
   "cell_type": "code",
   "execution_count": null,
   "metadata": {
    "colab": {
     "base_uri": "https://localhost:8080/"
    },
    "executionInfo": {
     "elapsed": 8,
     "status": "ok",
     "timestamp": 1743600301105,
     "user": {
      "displayName": "Jiri Konecny",
      "userId": "17507778614090359072"
     },
     "user_tz": -120
    },
    "id": "ckX9hdPnrROe",
    "outputId": "a4d12013-1df7-47ee-9a92-7f56f1ac9d6b"
   },
   "outputs": [
    {
     "name": "stdout",
     "output_type": "stream",
     "text": [
      "You bash with the pommel of your sword.\n",
      "You swing your sword in a clean arc.\n"
     ]
    }
   ],
   "source": [
    "someSword = Sword()\n",
    "someSword.bash()\n",
    "someSword.swing()"
   ]
  },
  {
   "cell_type": "code",
   "execution_count": null,
   "metadata": {
    "colab": {
     "base_uri": "https://localhost:8080/"
    },
    "executionInfo": {
     "elapsed": 7,
     "status": "ok",
     "timestamp": 1743600321581,
     "user": {
      "displayName": "Jiri Konecny",
      "userId": "17507778614090359072"
     },
     "user_tz": -120
    },
    "id": "zcoL-SbprT0b",
    "outputId": "abb1d722-dfaa-4648-eefc-d85221f90785"
   },
   "outputs": [
    {
     "name": "stdout",
     "output_type": "stream",
     "text": [
      "You bash with your heavy club.\n",
      "You swing your club with brute force.\n"
     ]
    }
   ],
   "source": [
    "someClub = Club()\n",
    "someClub.bash()\n",
    "someClub.swing()"
   ]
  },
  {
   "cell_type": "code",
   "execution_count": null,
   "metadata": {
    "id": "qgEbayfRvCFL"
   },
   "outputs": [],
   "source": [
    "# Vytvoř nový typ zbraně: Axe (sekera):\n"
   ]
  },
  {
   "cell_type": "markdown",
   "metadata": {
    "id": "7GHx9CRFrgO4"
   },
   "source": [
    "**Proč to děláme?** Nyní máme jistotu že všechny třídy, které budou implementovat základní třídu `Weapon`, se budou chovat jako zbraně. 💪 A také je tak můžeme použít v jiné třídě, hned předvedu."
   ]
  },
  {
   "cell_type": "code",
   "execution_count": null,
   "metadata": {
    "id": "0J6pRH-er_dx"
   },
   "outputs": [],
   "source": [
    "# Ukážeme si to na našem skřetovi, jen ho lehce modifikujeme...\n",
    "\n",
    "class Goblin:\n",
    "    name = \"\"\n",
    "    age = 0\n",
    "    inventory = {}\n",
    "    # Přidáme skřetovi zbraň, a dáme jesně najevo že to bude typ Weapon\n",
    "    weapon:Weapon = None\n",
    "\n",
    "    def __init__(self, name:str, age:int):\n",
    "        self.name = name\n",
    "        self.age = age\n",
    "\n",
    "    def scream(self):\n",
    "        print(f\"{self.name} screaming!\")\n",
    "\n",
    "    def fight(self, enemy):\n",
    "        print(f\"{self.name} fighting {enemy.name}!\")\n",
    "        # Nedala by se tu využít naše zbraň?\n",
    "\n",
    "    def pick(self, item:str, quantity:int):\n",
    "        self.inventory[item] = quantity"
   ]
  },
  {
   "cell_type": "code",
   "execution_count": null,
   "metadata": {
    "id": "F15pBxjfsvQK"
   },
   "outputs": [],
   "source": [
    "# Vygeneruji rezavý meč\n",
    "rustySword = Sword()\n",
    "# Vyrobím nového skřeta\n",
    "warGoblin = Goblin(\"Gruu\", 45)\n",
    "\n",
    "# A dám mu ho\n",
    "warGoblin.weapon = rustySword\n",
    "warGoblin.weapon.swing()"
   ]
  },
  {
   "cell_type": "code",
   "execution_count": null,
   "metadata": {
    "id": "6nLFefJHxtA3"
   },
   "outputs": [],
   "source": [
    "# Zkus mu misto toho dát sekeru:\n"
   ]
  },
  {
   "cell_type": "markdown",
   "metadata": {
    "id": "ZYESblYnujeF"
   },
   "source": [
    "❗ **Keyword: super()**\n",
    "\n",
    "Co takto přidat zbrani i její název? Ten je vcelku důležitý... Pojďme se podívat co nám to udělá s kodem. 🧠 A zároveň si představit klíčové slovo `super`!"
   ]
  },
  {
   "cell_type": "code",
   "execution_count": null,
   "metadata": {
    "id": "YcwAALSYu-2J"
   },
   "outputs": [],
   "source": [
    "from abc import ABC, abstractmethod\n",
    "\n",
    "class Weapon(ABC):\n",
    "    # Přibude název zbraně\n",
    "    name = \"\"\n",
    "\n",
    "    # A samozřejmě můžeme přidat i nový konstruktor co bude vyžadovat name\n",
    "    def __init__(self, name:str):\n",
    "        self.name = name\n",
    "\n",
    "    @abstractmethod\n",
    "    def bash(self):\n",
    "        pass\n",
    "\n",
    "    @abstractmethod\n",
    "    def swing(self):\n",
    "        pass\n",
    "\n",
    "\n",
    "class Sword(Weapon):\n",
    "    # Teď můžeme zbraň stvořit i s jejím názvem\n",
    "    # A nebo necháš defaultní hodnotu\n",
    "    def __init__(self, name=\"Generic Sword\"):\n",
    "        # super() se používá jako odkaz na rodiče - zde třídu Weapon\n",
    "        # Té předáš parametr name\n",
    "        super().__init__(name)\n",
    "\n",
    "    def bash(self):\n",
    "        # Meč není ideální na úder, ale lze jím zasáhnout rukojetí\n",
    "        print(\"You bash with the pommel of your sword.\")\n",
    "\n",
    "    def swing(self):\n",
    "        # Typický útok pro meč\n",
    "        print(\"You swing your sword in a clean arc.\")\n"
   ]
  },
  {
   "cell_type": "code",
   "execution_count": null,
   "metadata": {
    "colab": {
     "base_uri": "https://localhost:8080/",
     "height": 36
    },
    "executionInfo": {
     "elapsed": 8,
     "status": "ok",
     "timestamp": 1743601766809,
     "user": {
      "displayName": "Jiri Konecny",
      "userId": "17507778614090359072"
     },
     "user_tz": -120
    },
    "id": "2yw3FHMQuhVl",
    "outputId": "6bf606cb-577a-4efd-9d38-6302c4483d4d"
   },
   "outputs": [
    {
     "data": {
      "application/vnd.google.colaboratory.intrinsic+json": {
       "type": "string"
      },
      "text/plain": [
       "'Generic Sword'"
      ]
     },
     "execution_count": 69,
     "metadata": {},
     "output_type": "execute_result"
    }
   ],
   "source": [
    "# Mrkni na to\n",
    "someRandomSword = Sword()\n",
    "# Parametr name je součástí třídy Weapon, z které je tvořena naše třída Sword\n",
    "# Tím přijímá všechny její vlastnosti, a díky tomu můžeme name používat úplně stejně jako by to byla vlastnost třídy Sword\n",
    "someRandomSword.name"
   ]
  },
  {
   "cell_type": "code",
   "execution_count": null,
   "metadata": {
    "colab": {
     "base_uri": "https://localhost:8080/",
     "height": 36
    },
    "executionInfo": {
     "elapsed": 6,
     "status": "ok",
     "timestamp": 1743601767525,
     "user": {
      "displayName": "Jiri Konecny",
      "userId": "17507778614090359072"
     },
     "user_tz": -120
    },
    "id": "v8a_MXiqwOwf",
    "outputId": "14e24eab-ebda-4460-9be3-e0da988a2942"
   },
   "outputs": [
    {
     "data": {
      "application/vnd.google.colaboratory.intrinsic+json": {
       "type": "string"
      },
      "text/plain": [
       "'Glandrill'"
      ]
     },
     "execution_count": 70,
     "metadata": {},
     "output_type": "execute_result"
    }
   ],
   "source": [
    "someRareSword = Sword(\"Glandrill\")\n",
    "someRareSword.name"
   ]
  },
  {
   "cell_type": "markdown",
   "metadata": {
    "id": "dW2cuDVqtCPi"
   },
   "source": [
    "### 🪞**Task**: Realističnost!\n",
    "\n",
    "Rozšiř třídu `Weapon` o tři základním atributy:\n",
    "- **SZ** ⚔️ – síla zásahu (damage)\n",
    "\n",
    "- **OČ** 🛡️– obranné číslo (může simulovat blokování nebo parírování)\n",
    "\n",
    "- **INC** 🏃– určuje, jak rychlá je zbraň (může ovlivnit pořadí v boji)\n",
    "\n",
    "**Modifikuj** metody `swing()` a `bash()` pro jednotlivé typy zbraní tak, aby tato čísla zohlednila.\n",
    "**Například** `Club` bude mít při použití `bash()` nižší rychlost a běžný útok, ale při použití `swing()` bude mít vysoký útok i rychlost, v obou případech ti klesne obrana. `Sword` se bude chovat jinak... Přidej informace o útoku, rychlosti i postihu/bonusu do obrany do výpisu při dané akci. ✏️\n"
   ]
  },
  {
   "cell_type": "code",
   "execution_count": null,
   "metadata": {
    "id": "P2YDwIZLq0kt"
   },
   "outputs": [],
   "source": [
    "# Abstraktní třída pro všechny zbraně - s přidanými atributy\n",
    "class Weapon(ABC):\n",
    "    def __init__(self, name, attack, defense, speed):\n",
    "        self.name = name          # Název zbraně\n",
    "        self.attack = attack      # SZ - síla zásahu\n",
    "        self.defense = defense    # OČ - obranné číslo\n",
    "        self.speed = speed        # INC  -rychlost útoku\n",
    "\n",
    "    # Nově se očekává že útočně akce budou vracet hodnotu útoku\n",
    "    @abstractmethod\n",
    "    def bash(self) -> int:\n",
    "        pass\n",
    "\n",
    "    @abstractmethod\n",
    "    def swing(self) -> int:\n",
    "        pass\n",
    "\n",
    "    # A přibude obranná akce, ta bude vracet hodnotu obrany zbraně\n",
    "    @abstractmethod\n",
    "    def block(self) -> int:\n",
    "        pass"
   ]
  },
  {
   "cell_type": "code",
   "execution_count": null,
   "metadata": {
    "id": "mtuX6bnryAmn"
   },
   "outputs": [],
   "source": [
    "# Tvůj kod:\n",
    "class Sword(Weapon):\n",
    "    def __init__(self, name=\"Sword\"):\n",
    "      # Předej rodičovi (Weapon) parametry SZ, OČ a INC zbraně\n",
    "      # Pro meč by to mohlo být SZ=10, OC=5, INC=7\n",
    "      super().__init__(name)\n",
    "\n",
    "    def bash(self) -> int:\n",
    "        # Přepiš výpis tak aby obsahovoval informaci o poškození zbraně\n",
    "        dmg = #tu si předem spočítej do proměnné dmg, pro bash: attack/2\n",
    "        print(f\"You bash with the pommel of your sword. DMG:{dmg}\")\n",
    "        # Zde použij return pro a vrať hodnotu dmg\n",
    "\n",
    "    def swing(self) -> int:\n",
    "        # Stejně tak uprav funkci swing\n",
    "        # Nazapomeň spočítat dmg, pro swing: attack+speed\n",
    "        print(\"You swing your sword in a clean arc.\")\n",
    "        # I zde nezapomeň na return\n",
    "\n",
    "    def block(self) -> int:\n",
    "        # A nakonec podobně uprav funkci block, zde ale počítej obranu místo poškození\n",
    "        deff = # (defense + speed)/2\n",
    "        print(\"You swing your sword in a clean arc.\")\n",
    "        # I zde nezapomeň na return"
   ]
  },
  {
   "cell_type": "code",
   "execution_count": null,
   "metadata": {
    "id": "iw6B1_Bnn2aI"
   },
   "outputs": [],
   "source": [
    "\"\"\"\n",
    "SOLUTION!\n",
    "\"\"\"\n",
    "class Sword(Weapon):\n",
    "    def __init__(self, name=\"Sword\"):\n",
    "      super().__init__(name, attack = 10, defense = 5, speed = 7)\n",
    "\n",
    "    def bash(self) -> int:\n",
    "        dmg = self.attack//2\n",
    "        print(f\"You bash with the pommel of your sword. DMG:{dmg}\")\n",
    "        return dmg\n",
    "\n",
    "    def swing(self) -> int:\n",
    "        dmg = self.attack+self.speed\n",
    "        print(f\"You swing your sword in a clean arc. DMG:{dmg}\")\n",
    "        return dmg\n",
    "\n",
    "    def block(self) -> int:\n",
    "        deff = (self.defense + self.speed)/2\n",
    "        print(f\"You blocking enemy with patronage. BLOCK:{deff}\")\n",
    "        return deff"
   ]
  },
  {
   "cell_type": "code",
   "execution_count": null,
   "metadata": {
    "id": "N5T3wYgEuubM"
   },
   "outputs": [],
   "source": [
    "# Otestuj svou novou zbraň, zhmotni ji v objekt a použij bash, swing i block"
   ]
  },
  {
   "cell_type": "code",
   "execution_count": null,
   "metadata": {
    "colab": {
     "base_uri": "https://localhost:8080/"
    },
    "executionInfo": {
     "elapsed": 11,
     "status": "ok",
     "timestamp": 1745581136019,
     "user": {
      "displayName": "Jiri Konecny",
      "userId": "17507778614090359072"
     },
     "user_tz": -120
    },
    "id": "3tMiP8cou958",
    "outputId": "188c2d39-a53b-4f84-add8-afa9629f4cb8"
   },
   "outputs": [
    {
     "name": "stdout",
     "output_type": "stream",
     "text": [
      "You bash with the pommel of your sword. DMG:5\n",
      "You swing your sword in a clean arc. DMG:17\n",
      "You blocking enemy with patronage. BLOCK:6.0\n"
     ]
    },
    {
     "data": {
      "text/plain": [
       "6.0"
      ]
     },
     "execution_count": 38,
     "metadata": {},
     "output_type": "execute_result"
    }
   ],
   "source": [
    "\"\"\"\n",
    "SOLUTION!\n",
    "\"\"\"\n",
    "# Otestuj svou novou zbraň\n",
    "\n",
    "sword = Sword(\"Steel Sword\")\n",
    "sword.bash()\n",
    "sword.swing()\n",
    "sword.block()"
   ]
  },
  {
   "cell_type": "code",
   "execution_count": null,
   "metadata": {
    "id": "SO93ef_QuyeF"
   },
   "outputs": [],
   "source": [
    "# Proč jsem přidali return? Abychom se v případě kalkulace boje dostali ke skutečné hodnotě!"
   ]
  },
  {
   "cell_type": "markdown",
   "metadata": {
    "id": "PhiUe0fH8sda"
   },
   "source": [
    "## 🧭Simulátor\n",
    "\n",
    "Teď když umíme třídy, můžeme si začít tvořit služby - například simulátor světa. 🗺️"
   ]
  },
  {
   "cell_type": "markdown",
   "metadata": {
    "id": "pq_q2hkpJ1zF"
   },
   "source": [
    "### 🗺️ **Mapa - Map**\n",
    "\n",
    "Začneme tím složitějším - a to je **mapa**. Mapa světa je důležitá a není jednoduché ji generovat. Proto si to zjednodušíme - vytvoříme jednoduchou 2D reprezentaci znakové mapy."
   ]
  },
  {
   "cell_type": "markdown",
   "metadata": {
    "id": "5Gx7HmvWe3-c"
   },
   "source": [
    "Mapa by mohla vypadat asi takto:\n",
    "\n",
    "```\n",
    ".##~........~#....#.\n",
    "....~...#~......~.#.\n",
    "......#...##....##..\n",
    ".....##~#.##........\n",
    "#.....#...~........#\n",
    "#~.~.#...#.......~.~\n",
    "#.###~...#~..#.#....\n",
    ".#.#......~..~.#...#\n",
    ".~~.....#..........#\n",
    ".....#......##....#.\n",
    "```\n",
    "\n",
    "kde každý prvek mapy představuje určitý terén. Tyto prvky mapy bude představovat jeden `IMapElement`. Mapa samotná bude uložená jako 2D `numpy` pole.\n",
    "\n",
    "\n"
   ]
  },
  {
   "cell_type": "code",
   "execution_count": null,
   "metadata": {
    "id": "vpBSrIZYdqPc"
   },
   "outputs": [],
   "source": [
    "from abc import ABC, abstractmethod\n",
    "import random\n",
    "\n",
    "# Rozhraní pro prvky mapy\n",
    "class IMapElement(ABC):\n",
    "    @abstractmethod\n",
    "    def render(self) -> str:\n",
    "        \"\"\"Vrátí znakovou reprezentaci prvku (např. '.' nebo '#')\"\"\"\n",
    "        pass\n",
    "\n",
    "    @abstractmethod\n",
    "    def is_walkable(self) -> bool:\n",
    "        \"\"\"Vrací True, pokud je možné přes prvek přejít\"\"\"\n",
    "        pass\n"
   ]
  },
  {
   "cell_type": "markdown",
   "metadata": {
    "id": "EI_-5-PskFy4"
   },
   "source": [
    "### Task: Přidej prvky mapy\n",
    "\n",
    "Vytvoř různé prvky mapy (např. `Grass`) které budou dědit z `IMapElement` a implementovat metody `render` a `is_walkable`. Fuinkce render by měla vracet znak reprezentující terén, například '.' pro trávu, '~' pro vodu atd..."
   ]
  },
  {
   "cell_type": "code",
   "execution_count": null,
   "metadata": {
    "id": "m-hZ6sPjkm7E"
   },
   "outputs": [],
   "source": [
    "# Napiš několik tříd reprezentující prvky mapy dědící z třídy IMapElement\n",
    "\n",
    "# Tráva – obyčejné pole\n",
    "class Grass(IMapElement):\n",
    "  # dopiš zbytek"
   ]
  },
  {
   "cell_type": "code",
   "execution_count": 1,
   "metadata": {
    "executionInfo": {
     "elapsed": 7,
     "status": "ok",
     "timestamp": 1745822246198,
     "user": {
      "displayName": "Jiri Konecny",
      "userId": "17507778614090359072"
     },
     "user_tz": -120
    },
    "id": "7JjK-ahTCFzF"
   },
   "outputs": [],
   "source": [
    "\"\"\"\n",
    "SOLUTION!\n",
    "\"\"\"\n",
    "from abc import ABC, abstractmethod\n",
    "import numpy as np\n",
    "import random\n",
    "\n",
    "# Rozhraní pro prvky mapy\n",
    "class IMapElement(ABC):\n",
    "\n",
    "    @abstractmethod\n",
    "    def render(self) -> str:\n",
    "        \"\"\"Vrátí znakovou reprezentaci prvku (např. '.' nebo '#')\"\"\"\n",
    "        pass\n",
    "\n",
    "    @abstractmethod\n",
    "    def is_walkable(self) -> bool:\n",
    "        \"\"\"Vrací True, pokud je možné přes prvek přejít\"\"\"\n",
    "        pass\n",
    "\n",
    "# Tráva – obyčejné pole\n",
    "class Grass(IMapElement):\n",
    "    def render(self) -> str:\n",
    "        return '.'\n",
    "\n",
    "    def is_walkable(self) -> bool:\n",
    "        return True\n",
    "\n",
    "# Zeď – nepřekonatelná překážka\n",
    "class Wall(IMapElement):\n",
    "    def render(self) -> str:\n",
    "        return '#'\n",
    "\n",
    "    def is_walkable(self) -> bool:\n",
    "        return False\n",
    "\n",
    "# Voda – třeba zpomaluje, ale dá se projít (v budoucnu)\n",
    "class Water(IMapElement):\n",
    "    def render(self) -> str:\n",
    "        return '~'\n",
    "\n",
    "    def is_walkable(self) -> bool:\n",
    "        return True"
   ]
  },
  {
   "cell_type": "markdown",
   "metadata": {
    "id": "OOgKd9VRg6d6"
   },
   "source": [
    "#### Numpy - pole, pole, pole ⏹️⏹️⏹️\n",
    "\n",
    "Numpy je knihovna na práci s daty - respektive poli. Multidimensionálními poli. Ale obsahuje i vestavěné matematické, vyhledávací a jiné užitečné funkce..."
   ]
  },
  {
   "cell_type": "code",
   "execution_count": null,
   "metadata": {
    "colab": {
     "base_uri": "https://localhost:8080/"
    },
    "executionInfo": {
     "elapsed": 37,
     "status": "ok",
     "timestamp": 1745527622124,
     "user": {
      "displayName": "Jiri Konecny",
      "userId": "17507778614090359072"
     },
     "user_tz": -120
    },
    "id": "wZl6IebMijuC",
    "outputId": "e7cd41d2-dd39-4e11-ec22-d225aeb9a79f"
   },
   "outputs": [
    {
     "name": "stdout",
     "output_type": "stream",
     "text": [
      "🌍 World (elevation map):\n",
      "[[6 6 5 9 9 6 8 2 6 2]\n",
      " [6 9 0 8 5 1 6 1 1 5]\n",
      " [7 6 6 6 1 8 3 6 3 5]\n",
      " [8 9 1 0 5 0 1 8 4 1]\n",
      " [7 2 1 2 2 5 5 0 9 1]]\n",
      "\n",
      "📐 Rozměry: (5, 10)\n",
      "📊 Průměrná výška: 4.46\n",
      "⬆️ Nejvyšší bod: 9\n",
      "⬇️ Nejnižší bod: 0\n",
      "\n",
      "🌄 Místa vyšší než 5:\n",
      "[[ True  True False  True  True  True  True False  True False]\n",
      " [ True  True False  True False False  True False False False]\n",
      " [ True  True  True  True False  True False  True False False]\n",
      " [ True  True False False False False False  True False False]\n",
      " [ True False False False False False False False  True False]]\n",
      "\n",
      "📍 Souřadnice vyšších míst:\n",
      "[[0 0]\n",
      " [0 1]\n",
      " [0 3]\n",
      " [0 4]\n",
      " [0 5]\n",
      " [0 6]\n",
      " [0 8]\n",
      " [1 0]\n",
      " [1 1]\n",
      " [1 3]\n",
      " [1 6]\n",
      " [2 0]\n",
      " [2 1]\n",
      " [2 2]\n",
      " [2 3]\n",
      " [2 5]\n",
      " [2 7]\n",
      " [3 0]\n",
      " [3 1]\n",
      " [3 7]\n",
      " [4 0]\n",
      " [4 8]]\n",
      "\n",
      "🔧 Svět po zvednutí celé krajiny o +1:\n",
      "[[ 7  7  6 10 10  7  9  3  7  3]\n",
      " [ 7 10  1  9  6  2  7  2  2  6]\n",
      " [ 8  7  7  7  2  9  4  7  4  6]\n",
      " [ 9 10  2  1  6  1  2  9  5  2]\n",
      " [ 8  3  2  3  3  6  6  1 10  2]]\n"
     ]
    }
   ],
   "source": [
    "# Začneme importem numpy knihovny\n",
    "import numpy as np\n",
    "\n",
    "# Vytvoření 2D pole (např. mapa světa, výšková mapa)\n",
    "world = np.random.randint(0, 10, size=(5, 10))  # náhodná \"výška\" 0-9\n",
    "\n",
    "print(\"🌍 World (elevation map):\")\n",
    "print(world)\n",
    "\n",
    "# Zjištění základních vlastností\n",
    "print(\"\\n📐 Rozměry:\", world.shape)\n",
    "print(\"📊 Průměrná výška:\", world.mean())\n",
    "print(\"⬆️ Nejvyšší bod:\", world.max())\n",
    "print(\"⬇️ Nejnižší bod:\", world.min())\n",
    "\n",
    "# Maska – kde je výška větší než 5?\n",
    "high_ground = world > 5\n",
    "print(\"\\n🌄 Místa vyšší než 5:\")\n",
    "print(high_ground)\n",
    "\n",
    "# Vypsání souřadnic těchto míst\n",
    "coords = np.argwhere(high_ground)\n",
    "print(\"\\n📍 Souřadnice vyšších míst:\")\n",
    "print(coords)\n",
    "\n",
    "# Přičteme všem polím 1\n",
    "world += 1\n",
    "print(\"\\n🔧 Svět po zvednutí celé krajiny o +1:\")\n",
    "print(world)"
   ]
  },
  {
   "cell_type": "markdown",
   "metadata": {
    "id": "OFi7AA1VzM3p"
   },
   "source": [
    "Pojďme si to vykreslit do **heatmapy**! 🖌️ Heatmapa je skvělý vizuální nástroj pro zobrazení 2D dat. Využijeme knihovnu `matplotlib`."
   ]
  },
  {
   "cell_type": "code",
   "execution_count": null,
   "metadata": {
    "colab": {
     "base_uri": "https://localhost:8080/",
     "height": 420
    },
    "executionInfo": {
     "elapsed": 511,
     "status": "ok",
     "timestamp": 1745531739679,
     "user": {
      "displayName": "Jiri Konecny",
      "userId": "17507778614090359072"
     },
     "user_tz": -120
    },
    "id": "s2Bt7ejnzDQQ",
    "outputId": "b895a023-42ad-47c4-e25d-0040b5cf7ae6"
   },
   "outputs": [
    {
     "data": {
      "image/png": "[encoded data removed]",
      "text/plain": [
       "<Figure size 640x480 with 2 Axes>"
      ]
     },
     "metadata": {},
     "output_type": "display_data"
    }
   ],
   "source": [
    "import matplotlib.pyplot as plt\n",
    "\n",
    "# Vykreslení heatmapy\n",
    "plt.imshow(world, cmap='terrain')  # colormap: terrain, viridis, hot, cool...\n",
    "plt.colorbar(label=\"Výška\")        # přidání barevné škály\n",
    "plt.title(\"Výšková mapa světa\")\n",
    "plt.xlabel(\"X souřadnice\")\n",
    "plt.ylabel(\"Y souřadnice\")\n",
    "plt.grid(False)\n",
    "plt.show()"
   ]
  },
  {
   "cell_type": "markdown",
   "metadata": {
    "id": "k7GEjNv_jqBA"
   },
   "source": [
    "#### Task: Vytvoř generátor mapy\n",
    "\n",
    "Dodělej funkci `generate_map` která vygeneruje mapu světa jako 2D numpy pole. Dodržuj instrukce v komentářích. ⚡"
   ]
  },
  {
   "cell_type": "code",
   "execution_count": null,
   "metadata": {
    "id": "itqdTLdxkxFV"
   },
   "outputs": [],
   "source": [
    "import numpy as np\n",
    "\n",
    "# Generátor jednoduché náhodné mapy, vrací 2D pole mapových prvků v [X,Y] souřadnicovém systému\n",
    "def generate_map(width: int, height: int, elements:IMapElement, weights:list) -> np.ndarray:\n",
    "    grid = #použij np.empty k vytvoření prázdné mapy o rozměrech width a height\n",
    "\n",
    "    for y in range(height):\n",
    "        for x in range(width):\n",
    "            # Vygeneruj náhodný prvek z výběru dle pravděpodobnosti\n",
    "            tile_class = # Použij random.choices, elements a weights\n",
    "            # Přidej vygenerovaný prvek do mapy na pozici x,y\n",
    "            ???\n",
    "\n",
    "    # vrať mapu\n",
    "    return grid\n",
    "\n",
    "# Funkce pro výpis mapy do konzole\n",
    "def print_map(grid: np.ndarray):\n",
    "    for row in grid:\n",
    "        # vykreslování mapy po řádcích\n",
    "        print(''.join(tile.render() for tile in row))"
   ]
  },
  {
   "cell_type": "code",
   "execution_count": null,
   "metadata": {
    "colab": {
     "base_uri": "https://localhost:8080/"
    },
    "executionInfo": {
     "elapsed": 27,
     "status": "ok",
     "timestamp": 1745593650022,
     "user": {
      "displayName": "Jiri Konecny",
      "userId": "17507778614090359072"
     },
     "user_tz": -120
    },
    "id": "nmTVpy6xfQ68",
    "outputId": "84725dc6-254c-45cb-d222-a33d17e336ba"
   },
   "outputs": [
    {
     "data": {
      "text/plain": [
       "array([[None, None, None, None, None, None, None, None, None, None],\n",
       "       [None, None, None, None, None, None, None, None, None, None],\n",
       "       [None, None, None, None, None, None, None, None, None, None],\n",
       "       [None, None, None, None, None, None, None, None, None, None],\n",
       "       [None, None, None, None, None, None, None, None, None, None],\n",
       "       [None, None, None, None, None, None, None, None, None, None],\n",
       "       [None, None, None, None, None, None, None, None, None, None],\n",
       "       [None, None, None, None, None, None, None, None, None, None],\n",
       "       [None, None, None, None, None, None, None, None, None, None],\n",
       "       [None, None, None, None, None, None, None, None, None, None],\n",
       "       [None, None, None, None, None, None, None, None, None, None],\n",
       "       [None, None, None, None, None, None, None, None, None, None],\n",
       "       [None, None, None, None, None, None, None, None, None, None],\n",
       "       [None, None, None, None, None, None, None, None, None, None],\n",
       "       [None, None, None, None, None, None, None, None, None, None],\n",
       "       [None, None, None, None, None, None, None, None, None, None],\n",
       "       [None, None, None, None, None, None, None, None, None, None],\n",
       "       [None, None, None, None, None, None, None, None, None, None],\n",
       "       [None, None, None, None, None, None, None, None, None, None],\n",
       "       [None, None, None, None, None, None, None, None, None, None]],\n",
       "      dtype=object)"
      ]
     },
     "execution_count": 278,
     "metadata": {},
     "output_type": "execute_result"
    }
   ],
   "source": [
    "np.empty((20, 10), dtype=object)"
   ]
  },
  {
   "cell_type": "code",
   "execution_count": 4,
   "metadata": {
    "executionInfo": {
     "elapsed": 9,
     "status": "ok",
     "timestamp": 1745822270598,
     "user": {
      "displayName": "Jiri Konecny",
      "userId": "17507778614090359072"
     },
     "user_tz": -120
    },
    "id": "tkfa9fBNd0VK"
   },
   "outputs": [],
   "source": [
    "\"\"\"\n",
    "SOLUTION!\n",
    "\"\"\"\n",
    "import numpy as np\n",
    "\n",
    "# Generátor jednoduché náhodné mapy\n",
    "def generate_map(width: int, height: int, elements:IMapElement, weights:list) -> np.ndarray:\n",
    "    grid = np.empty((height, width), dtype=object)\n",
    "\n",
    "    for y in range(height):\n",
    "        for x in range(width):\n",
    "            tile_class = random.choices(elements, weights)[0]\n",
    "            grid[y, x] = tile_class()\n",
    "\n",
    "    return grid\n",
    "\n",
    "# Funkce pro výpis mapy do konzole\n",
    "def print_map(grid: np.ndarray):\n",
    "    for row in grid:\n",
    "        print(''.join(tile.render() for tile in row))\n"
   ]
  },
  {
   "cell_type": "code",
   "execution_count": null,
   "metadata": {
    "id": "hVDaIVPdd4Tn"
   },
   "outputs": [],
   "source": [
    "elements = [#třídy reprezentující prvky mapy]\n",
    "weights = [# pravděpodobnosti výskytu každého prvku při generování]\n",
    "\n",
    "map = generate_map(20, 10, elements, weights)\n",
    "print_map(map)"
   ]
  },
  {
   "cell_type": "code",
   "execution_count": null,
   "metadata": {
    "colab": {
     "base_uri": "https://localhost:8080/"
    },
    "executionInfo": {
     "elapsed": 5,
     "status": "ok",
     "timestamp": 1745593738225,
     "user": {
      "displayName": "Jiri Konecny",
      "userId": "17507778614090359072"
     },
     "user_tz": -120
    },
    "id": "6NhYpMUdElUv",
    "outputId": "e19dfad1-e4a1-4265-ec10-99c797fa3759"
   },
   "outputs": [
    {
     "name": "stdout",
     "output_type": "stream",
     "text": [
      "......#~....#....#.#\n",
      "#.#........~...~.~..\n",
      "..#.#.......##..#.#~\n",
      "#.~..~........~#...#\n",
      ".~..#.##......###.#.\n",
      ".#.#.........#..#.#.\n",
      "........####........\n",
      ".~...~~.....#~##.#.#\n",
      "..#.#~........~..##.\n",
      "......####~.....#...\n"
     ]
    }
   ],
   "source": [
    "\"\"\"\n",
    "SOLUTION!\n",
    "\"\"\"\n",
    "elements = [Grass, Wall, Water]\n",
    "weights = [0.7, 0.2, 0.1]  # pravděpodobnosti výskytu\n",
    "\n",
    "map = generate_map(20, 10, elements, weights)\n",
    "print_map(map)"
   ]
  },
  {
   "cell_type": "code",
   "execution_count": null,
   "metadata": {
    "id": "cleT-bljzgyS"
   },
   "outputs": [],
   "source": [
    "# Šlo by vykreslit pomocí heatmapy i tento druh znakové mapy?"
   ]
  },
  {
   "cell_type": "markdown",
   "metadata": {
    "id": "g68LLbtbsubZ"
   },
   "source": [
    "#### Task: Převeď mapu do objektu ✨\n",
    "\n",
    "Doveď to k dokonalosti a zabal celou mapovou logiku do třídy `Map` která bude obsahovat základní metody a uloženou mapu:\n",
    "- __init__(width: int, height: int, elements:IMapElement, weights:list, generate_inplace=True) : zadefinuje novou mapu, její základní elementy a pravděpodobnosti elementů, parametr `generate_inplace` určuje zda se má mapa vygenerovat hned v inicializaci (pomocí `generate_random`)\n",
    "- generate_random(): vygeneruje novou náhodnou mapu a uloží ji do `map_arr`\n",
    "- get_map() vrátí `map_arr`\n",
    "- get_size() vrátí `tuple(width, height)`\n",
    "- get_area() vrátí `width * height`\n",
    "- in_bounds(x, y) která vrací `True` pokud jsou souřadnice `x` a `y` v rámci mapy\n",
    "- get(x, y) která vrátí prvek na mapě nacházející se v souřadnicích `x` a `y`, pokud jsou souřadnice mimo mapu, vrací `None`\n",
    "- is_walkable(self, x:int, y:int) která vrátí `True` pokud je prvek na souřadnicích `x` a `y` možný projít (is_walkable)\n",
    "- render() - vykreslí vyrenderovanou mapu do konzole\n",
    "\n",
    "💡 V rámci třídy můžeš použít funkce `generate_map` a `print_map`."
   ]
  },
  {
   "cell_type": "code",
   "execution_count": null,
   "metadata": {
    "id": "ZMO03Esj2gwB"
   },
   "outputs": [],
   "source": [
    "# Tvoje OOP mapa:\n",
    "class Map:\n",
    "    # Metody init, generate_random, get_map, get_size, render"
   ]
  },
  {
   "cell_type": "code",
   "execution_count": null,
   "metadata": {
    "id": "KPDhRLALGlr8"
   },
   "outputs": [],
   "source": [
    "# Vytvoř objekt map z třídy Map a zavolej metodu render abys ověřil že vše funguje jak má"
   ]
  },
  {
   "cell_type": "code",
   "execution_count": 5,
   "metadata": {
    "executionInfo": {
     "elapsed": 38,
     "status": "ok",
     "timestamp": 1745822275500,
     "user": {
      "displayName": "Jiri Konecny",
      "userId": "17507778614090359072"
     },
     "user_tz": -120
    },
    "id": "tl4M5wwECXPb"
   },
   "outputs": [],
   "source": [
    "\"\"\"\n",
    "SOLUTION!\n",
    "\"\"\"\n",
    "# Tvoje OOP mapa:\n",
    "class Map:\n",
    "    def __init__(self, width: int, height: int, elements:IMapElement, weights:list, generate_inplace=True, name=\"Unknown map\"):\n",
    "        self.map_arr = None\n",
    "        self.width = width\n",
    "        self.height = height\n",
    "        self.elements = elements\n",
    "        self.weights = weights\n",
    "        # Generate defaut random map\n",
    "        if generate_inplace:\n",
    "          self.generate_random()\n",
    "        # Set name\n",
    "        self.name = name\n",
    "\n",
    "    def generate_random(self):\n",
    "        print(\"🗺️ Creating map... Please wait.\")\n",
    "        self.map_arr = generate_map(self.width, self.height, self.elements, self.weights)\n",
    "\n",
    "    def get(self, x:int, y:int):\n",
    "        if not self.in_bounds(x,y):\n",
    "            return None\n",
    "        return self.map_arr[y][x]\n",
    "\n",
    "    def get_map(self):\n",
    "        return self.map_arr\n",
    "\n",
    "    def get_size(self):\n",
    "        return self.width, self.height\n",
    "\n",
    "    def get_area(self):\n",
    "        return self.width * self.height\n",
    "\n",
    "    def in_bounds(self, x:int, y:int):\n",
    "        return 0 <= x < self.width and 0 <= y < self.height\n",
    "\n",
    "    def is_walkable(self, x:int, y:int):\n",
    "        if not self.in_bounds(x,y):\n",
    "            return False\n",
    "        return self.get(x, y).is_walkable()\n",
    "\n",
    "    def render(self):\n",
    "        print_map(self.get_map())"
   ]
  },
  {
   "cell_type": "code",
   "execution_count": null,
   "metadata": {},
   "outputs": [],
   "source": [
    "# Vytvoř objekt map z třídy Map a zavolej metodu render abys ověřil že vše funguje jak má\n"
   ]
  },
  {
   "cell_type": "code",
   "execution_count": 6,
   "metadata": {
    "colab": {
     "base_uri": "https://localhost:8080/"
    },
    "executionInfo": {
     "elapsed": 12,
     "status": "ok",
     "timestamp": 1745822277048,
     "user": {
      "displayName": "Jiri Konecny",
      "userId": "17507778614090359072"
     },
     "user_tz": -120
    },
    "id": "txpr0wpVDOxk",
    "outputId": "d1cd5be4-0f46-4f7c-da57-6d1a5d530280"
   },
   "outputs": [
    {
     "name": "stdout",
     "output_type": "stream",
     "text": [
      "🗺️ Creating map... Please wait.\n",
      "(20, 10)\n",
      "200\n",
      "Unknown map\n",
      "#....#..#...........\n",
      ".##..~...~......~...\n",
      "....~........#......\n",
      "...........#...##.#.\n",
      "...#....~#..........\n",
      "#.......#...#.......\n",
      ".##.#.....~.#...#...\n",
      "........#.#...#.....\n",
      "..~..~..##.#........\n",
      "..#~#.....~#......#.\n"
     ]
    }
   ],
   "source": [
    "\"\"\"\n",
    "SOLUTION!\n",
    "\"\"\"\n",
    "map = Map(20, 10, [Grass, Wall, Water], [0.7, 0.2, 0.1])\n",
    "print(map.get_size())\n",
    "print(map.get_area())\n",
    "print(map.name)\n",
    "map.render()"
   ]
  },
  {
   "cell_type": "markdown",
   "metadata": {
    "id": "bIvU_bzx56SS"
   },
   "source": [
    "#### **Jak si mapu uložit?** 💾\n",
    "Také tě napadlo - jak bych si mohl takovou to mapu **uložit** abych ji příště mohl **znovu použít**? Snadno - ukážeme si hned dva přístupy a jeden bonus."
   ]
  },
  {
   "cell_type": "code",
   "execution_count": null,
   "metadata": {
    "id": "wyxjpI256VQd"
   },
   "outputs": [],
   "source": [
    "# Pokud používíš numpy, je to jednoduché\n",
    "# Numpy má svou metodu save a load\n",
    "np.save(\"world.npy\", world)\n",
    "\n",
    "# Zkus načíst mapu pomocí metody load(<filename>)\n",
    "# Dostal jsi chybovou hlášku ohledně allow_pickle=False? To je správně - naše data jsou totiž objekty!\n",
    "# Zkus to opravit aby load fungoval, zapoj parametr allow_pickle\n",
    "loaded_world = # np.load...\n",
    "print_map(loaded_world)"
   ]
  },
  {
   "cell_type": "code",
   "execution_count": null,
   "metadata": {
    "colab": {
     "base_uri": "https://localhost:8080/"
    },
    "executionInfo": {
     "elapsed": 10,
     "status": "ok",
     "timestamp": 1745533992564,
     "user": {
      "displayName": "Jiri Konecny",
      "userId": "17507778614090359072"
     },
     "user_tz": -120
    },
    "id": "C16iMUFO7RtO",
    "outputId": "45bad32f-cfdf-48a7-b105-872912c845f4"
   },
   "outputs": [
    {
     "name": "stdout",
     "output_type": "stream",
     "text": [
      "..#~.~#.#...~.~.#.~.\n",
      "....~~..#...~....~..\n",
      "##...#.....#....#...\n",
      ".#....#....##.......\n",
      "..~#...#.....#~.....\n",
      ".#........~...~..#..\n",
      "....#.....~..#~#....\n",
      "~....#..#.~##...#...\n",
      ".#...#~...#........~\n",
      "......#.#.~...~...##\n"
     ]
    }
   ],
   "source": [
    "\"\"\"\n",
    "SOLUTION!\n",
    "\"\"\"\n",
    "# Pokud používíš numpy, je to jednoduché\n",
    "# Numpy má svou metodu save a load\n",
    "np.save(\"world.npy\", world)\n",
    "\n",
    "# Zkus načíst mapu pomocí metody load(<filename>)\n",
    "loaded_world = np.load(\"world.npy\", allow_pickle=True)\n",
    "print_map(loaded_world)"
   ]
  },
  {
   "cell_type": "code",
   "execution_count": null,
   "metadata": {
    "colab": {
     "base_uri": "https://localhost:8080/"
    },
    "executionInfo": {
     "elapsed": 7,
     "status": "ok",
     "timestamp": 1745534093795,
     "user": {
      "displayName": "Jiri Konecny",
      "userId": "17507778614090359072"
     },
     "user_tz": -120
    },
    "id": "jN30UBQQ6f5q",
    "outputId": "0e6c6d3a-87fa-45a2-d8d8-ddef01473dee"
   },
   "outputs": [
    {
     "name": "stdout",
     "output_type": "stream",
     "text": [
      "\n",
      "..#~.~#.#...~.~.#.~.\n",
      "....~~..#...~....~..\n",
      "##...#.....#....#...\n",
      ".#....#....##.......\n",
      "..~#...#.....#~.....\n",
      ".#........~...~..#..\n",
      "....#.....~..#~#....\n",
      "~....#..#.~##...#...\n",
      ".#...#~...#........~\n",
      "......#.#.~...~...##\n",
      "\n"
     ]
    }
   ],
   "source": [
    "# Možnost dva - ulož to jako text!\n",
    "map = \"\"\"\n",
    "..#~.~#.#...~.~.#.~.\n",
    "....~~..#...~....~..\n",
    "##...#.....#....#...\n",
    ".#....#....##.......\n",
    "..~#...#.....#~.....\n",
    ".#........~...~..#..\n",
    "....#.....~..#~#....\n",
    "~....#..#.~##...#...\n",
    ".#...#~...#........~\n",
    "......#.#.~...~...##\n",
    "\"\"\"\n",
    "\n",
    "# Přes open otevřeš/vytvoříš soubor, příznak w říká write, a pomocí write do souboru uložíš obsah map jako text\n",
    "with open(\"world.txt\", \"w\") as f:\n",
    "    f.write(map)\n",
    "\n",
    "# Opačně zase můžeš  číst, příznak r říká read\n",
    "with open(\"world.txt\", \"r\") as f:\n",
    "    loaded_map = f.read()\n",
    "\n",
    "print(loaded_map)"
   ]
  },
  {
   "cell_type": "code",
   "execution_count": null,
   "metadata": {
    "colab": {
     "base_uri": "https://localhost:8080/"
    },
    "executionInfo": {
     "elapsed": 8,
     "status": "ok",
     "timestamp": 1745534401735,
     "user": {
      "displayName": "Jiri Konecny",
      "userId": "17507778614090359072"
     },
     "user_tz": -120
    },
    "id": "5oOQerLB8V8Z",
    "outputId": "81f95575-81a1-422b-be51-063a438c9800"
   },
   "outputs": [
    {
     "data": {
      "text/plain": [
       "[1, 2, 3, 4, 5]"
      ]
     },
     "execution_count": 23,
     "metadata": {},
     "output_type": "execute_result"
    }
   ],
   "source": [
    "# BONUS: Zavařovačka\n",
    "# V Pythonu exituje jeden způsob jak uložit téměř vše - pickle\n",
    "import pickle\n",
    "\n",
    "# Pickle vše ukládá jako binární objekt\n",
    "whatever = [1,2,3,4,5]\n",
    "\n",
    "with open(\"somestuff.pkl\", \"wb\") as f:\n",
    "    pickle.dump(whatever, f)\n",
    "\n",
    "with open(\"somestuff.pkl\", \"rb\") as f:\n",
    "    loaded_whatever = pickle.load(f)\n",
    "\n",
    "loaded_whatever"
   ]
  },
  {
   "cell_type": "code",
   "execution_count": null,
   "metadata": {
    "id": "WnaW2FYDHFjd"
   },
   "outputs": [],
   "source": [
    "# Zkus pomocí pickle uložit a načíst tvýj mapový objekt map! Ulož jej jako map.pkl, a po načtení na něj zavolej render()\n"
   ]
  },
  {
   "cell_type": "code",
   "execution_count": null,
   "metadata": {
    "colab": {
     "base_uri": "https://localhost:8080/"
    },
    "executionInfo": {
     "elapsed": 6,
     "status": "ok",
     "timestamp": 1745570636670,
     "user": {
      "displayName": "Jiri Konecny",
      "userId": "17507778614090359072"
     },
     "user_tz": -120
    },
    "id": "-Zx-6Ge1HZJg",
    "outputId": "93fa4a89-c301-41d9-d21e-5b01d8a42911"
   },
   "outputs": [
    {
     "name": "stdout",
     "output_type": "stream",
     "text": [
      "#......#~.....#~.~~.\n",
      "~.#...#....~...#....\n",
      ".....#.~...#..#.##~.\n",
      ".#.......~.#..##.#..\n",
      "~.#.~#........~.....\n",
      ".#..#...~#..##.#....\n",
      "..#.~...~.~.#.###.#.\n",
      "#.~.~....#..#....#..\n",
      ".#.#.....~~#~...~..#\n",
      ".....#.#.....~#.~...\n"
     ]
    }
   ],
   "source": [
    "\"\"\"\n",
    "SOLUTION!\n",
    "\"\"\"\n",
    "import pickle\n",
    "\n",
    "with open(\"map.pkl\", \"wb\") as f:\n",
    "    pickle.dump(map, f)\n",
    "\n",
    "with open(\"map.pkl\", \"rb\") as f:\n",
    "    loaded_map = pickle.load(f)\n",
    "\n",
    "loaded_map.render()"
   ]
  },
  {
   "cell_type": "markdown",
   "metadata": {
    "id": "jvbxvUPOur0h"
   },
   "source": [
    "### 🧙‍♂️💎 **Postavy a předměty - Characters&Items**\n",
    "\n",
    "Každý správný fantasy svět musí být živý. A proto musí obsahovat řadu charaktérů - postav a také předměty."
   ]
  },
  {
   "cell_type": "code",
   "execution_count": null,
   "metadata": {
    "id": "3XfD6zB6v2KS"
   },
   "outputs": [],
   "source": [
    "from abc import ABC, abstractmethod\n",
    "\n",
    "# Vytvořme rozhraní společné všem charakterům\n",
    "class ICharacter(ABC):\n",
    "    name = \"\"\n",
    "    is_alive = True\n",
    "\n",
    "    def __init__(self, name:str):\n",
    "        self.name = name\n",
    "\n",
    "    # Metoda __str__ je velmi užitečná, umožňuje nám customizovat co se má vypsat když třídu vypíšeme pomocí print\n",
    "    def __str__(self):\n",
    "        return f\"Character info: {self.name}\"\n",
    "\n",
    "# Co by rozhraní ještě mohlo obsahovat? Jaké jsou základní důležité vlastnosti každé postavy?\n",
    "# Je důležité znát i její polohu na mapě?"
   ]
  },
  {
   "cell_type": "code",
   "execution_count": 8,
   "metadata": {
    "executionInfo": {
     "elapsed": 11,
     "status": "ok",
     "timestamp": 1745822319936,
     "user": {
      "displayName": "Jiri Konecny",
      "userId": "17507778614090359072"
     },
     "user_tz": -120
    },
    "id": "btQIwY9uIGzA"
   },
   "outputs": [],
   "source": [
    "\"\"\"\n",
    "SOLUTION!\n",
    "\"\"\"\n",
    "from abc import ABC, abstractmethod\n",
    "\n",
    "# Vytvořme rozhraní společné všem charakterům\n",
    "class ICharacter(ABC):\n",
    "    name = \"\"\n",
    "    level = 0\n",
    "    life = 0\n",
    "    exp = 0\n",
    "    x = 0\n",
    "    y = 0\n",
    "    is_alive = True\n",
    "    symbol = \"\"\n",
    "\n",
    "    def __init__(self, name:str, level = 1, symbol=\"🧝\"):\n",
    "      self.name = name\n",
    "      self.level = level\n",
    "      self.life = 100 + 10 * level\n",
    "      self.exp = 1000 * level\n",
    "      self.x = 0\n",
    "      self.y = 0\n",
    "      self.is_alive = True\n",
    "      self.symbol = symbol\n",
    "\n",
    "    def render(self):\n",
    "      return self.symbol\n",
    "\n",
    "    def set_position(self, x:int, y:int):\n",
    "      self.x = x\n",
    "      self.y = y\n",
    "\n",
    "    def __str__(self):\n",
    "        alive = \"ALIVE\" if self.is_alive else \"DEAD\"\n",
    "        return f\"Character info: {self.symbol}{self.name} ({alive}), level: {self.level}, life: {self.life}, exp: {self.exp}, is on cord [{self.x}, {self.y}]\""
   ]
  },
  {
   "cell_type": "code",
   "execution_count": null,
   "metadata": {
    "id": "0mkJt0HrJzaP"
   },
   "outputs": [],
   "source": [
    "from abc import ABC, abstractmethod\n",
    "\n",
    "# To samé pro předměty\n",
    "class IItem(ABC):\n",
    "    name = \"\"\n",
    "    level = 0\n",
    "\n",
    "    def __init__(self, name:str, level:int):\n",
    "        self.name = name\n",
    "        self.level = level\n",
    "\n",
    "    # Metoda __str__ je velmi užitečná, umožňuje nám customizovat co se má vypsat když třídu vypíšeme pomocí print\n",
    "    def __str__(self):\n",
    "        return f\"Item  info: {self.name} [{self.level}]\"\n",
    "# Co by rozhraní ještě mohlo obsahovat? Co je další důležitá vlastnost předmětu?"
   ]
  },
  {
   "cell_type": "code",
   "execution_count": 20,
   "metadata": {
    "executionInfo": {
     "elapsed": 7,
     "status": "ok",
     "timestamp": 1745822503436,
     "user": {
      "displayName": "Jiri Konecny",
      "userId": "17507778614090359072"
     },
     "user_tz": -120
    },
    "id": "PnEnJcvxJ0Pf"
   },
   "outputs": [],
   "source": [
    "\"\"\"\n",
    "SOLUTION!\n",
    "\"\"\"\n",
    "from abc import ABC, abstractmethod\n",
    "\n",
    "# To samé pro předměty\n",
    "class IItem(ABC):\n",
    "    name = \"\"\n",
    "    level = 0\n",
    "    cost = 0\n",
    "    x = 0\n",
    "    y = 0\n",
    "    symbol = \"\"\n",
    "\n",
    "    def __init__(self, name:str, level:int, cost:int, symbol=\"📦\"):\n",
    "        self.name = name\n",
    "        self.level = level\n",
    "        self.cost = cost\n",
    "        self.x = 0\n",
    "        self.y = 0\n",
    "        self.symbol = symbol\n",
    "\n",
    "    def render(self):\n",
    "      return self.symbol\n",
    "\n",
    "    def set_position(self, x:int, y:int):\n",
    "      self.x = x\n",
    "      self.y = y\n",
    "\n",
    "    # Metoda __str__ je velmi užitečná, umožňuje nám customizovat co se má vypsat když třídu vypíšeme pomocí print\n",
    "    def __str__(self):\n",
    "        return f\"Item  info: {self.symbol}{self.name} [{self.level}], cost:{self.cost}g\""
   ]
  },
  {
   "cell_type": "markdown",
   "metadata": {
    "id": "JocYf5N9JIPt"
   },
   "source": [
    "#### Task: Nové postavy a předměty\n",
    "\n",
    "🧙‍♂️ Vytvoř různé charktery (classy) které použijí rozhraní `ICharacter`, např. `Hero`, `Enemy`, `NPC`...\n",
    "\n",
    "💡Co by měli různé charaktery umět a co by mohli mít špolečné? Nemůžeme si půjčit kod z předchozích kapitol, např. z *Make your hero great again*?"
   ]
  },
  {
   "cell_type": "code",
   "execution_count": null,
   "metadata": {
    "id": "TuAmf5vVKkdP"
   },
   "outputs": [],
   "source": [
    "# Příklad:\n",
    "class Hero(ICharacter):\n",
    "    # Přidám mu inventář\n",
    "    inventory = {}\n",
    "    # Přidám atributy\n",
    "    attributes = {}\n",
    "\n",
    "    def __init__(self, name, attributes, level=1, symbol=\"🧙‍♂️\"):\n",
    "        super().__init__(name, level, symbol=symbol)\n",
    "        self.attributes = attributes\n",
    "\n",
    "    # Přepiš funkci __str__ aby ukazovala i atributy hrdiny\n",
    "    def __str__(self):\n",
    "      return super().__str__() + #zde zřetěz atributy hrdiny jako string"
   ]
  },
  {
   "cell_type": "code",
   "execution_count": null,
   "metadata": {
    "id": "FVen-ZCTxDzn"
   },
   "outputs": [],
   "source": [
    "# Tvoje další třídy charakterů sem (např. Enemy, NPC)\n"
   ]
  },
  {
   "cell_type": "code",
   "execution_count": 21,
   "metadata": {
    "executionInfo": {
     "elapsed": 3,
     "status": "ok",
     "timestamp": 1745822508131,
     "user": {
      "displayName": "Jiri Konecny",
      "userId": "17507778614090359072"
     },
     "user_tz": -120
    },
    "id": "rEpMDqb7Hpar"
   },
   "outputs": [],
   "source": [
    "\"\"\"\n",
    "SOLUTION!\n",
    "\"\"\"\n",
    "class Hero(ICharacter):\n",
    "    # Přidám mu inventář\n",
    "    inventory = {}\n",
    "    # Přidám atributy\n",
    "    attributes = {}\n",
    "\n",
    "    def __init__(self, name, attributes, level=1, symbol=\"🧙‍♂️\"):\n",
    "        super().__init__(name, level, symbol=symbol)\n",
    "        self.attributes = attributes\n",
    "    def __str__(self):\n",
    "      return super().__str__() + f\", attributes:{self.attributes}\"\n",
    "\n",
    "class Enemy(ICharacter):\n",
    "    attack = 0\n",
    "    defence = 0\n",
    "    def __init__(self, name, level):\n",
    "        super().__init__(\"ENEMY:\"+name, level, symbol=\"🧌\")\n",
    "        self.attack = 10 + random.randint(1, level)\n",
    "        self.defence = 10 + random.randint(1, level)\n",
    "    def __str__(self):\n",
    "      return super().__str__() + f\", attack:{self.attack}, defence:{self.defence}\"\n",
    "\n",
    "\n",
    "class NPC(ICharacter):\n",
    "    description=\"\"\n",
    "\n",
    "    def __init__(self, name, description, level, symbol=\"🧝\"):\n",
    "        super().__init__(\"NPC:\"+name, level)\n",
    "        self.description = description"
   ]
  },
  {
   "cell_type": "code",
   "execution_count": null,
   "metadata": {
    "id": "_PfT6pRy4gGf"
   },
   "outputs": [],
   "source": [
    "# Zhmotni pár postav a otestuj že vše funguje"
   ]
  },
  {
   "cell_type": "code",
   "execution_count": 13,
   "metadata": {
    "colab": {
     "base_uri": "https://localhost:8080/"
    },
    "executionInfo": {
     "elapsed": 14,
     "status": "ok",
     "timestamp": 1745822365533,
     "user": {
      "displayName": "Jiri Konecny",
      "userId": "17507778614090359072"
     },
     "user_tz": -120
    },
    "id": "idm9Y4nN4iO2",
    "outputId": "02803fa2-a280-4b61-8564-20e460f6f27d"
   },
   "outputs": [
    {
     "name": "stdout",
     "output_type": "stream",
     "text": [
      "Character info: 🧙‍♂️Glindelf (ALIVE), level: 1, life: 110, exp: 1000, is on cord [0, 0], attributes:{'strength': 10, 'dexterity': 8, 'intelligence': 5}\n",
      "Character info: 🧌ENEMY:Goblin (ALIVE), level: 2, life: 120, exp: 2000, is on cord [10, 10], attack:12, defence:12\n",
      "Character info: 🧝NPC:Salesman (ALIVE), level: 36, life: 460, exp: 36000, is on cord [50, 69]\n"
     ]
    }
   ],
   "source": [
    "\"\"\"\n",
    "SOLUTION!\n",
    "\"\"\"\n",
    "hero_attrs = {\"strength\": 10, \"dexterity\": 8, \"intelligence\": 5}\n",
    "hero = Hero(\"Glindelf\", attributes=hero_attrs)\n",
    "print(hero)\n",
    "\n",
    "enemy = Enemy(\"Goblin\", 2)\n",
    "enemy.set_position(10,10)\n",
    "print(enemy)\n",
    "\n",
    "npc = NPC(\"Salesman\", \"Humble fruit merchant\", 36)\n",
    "npc.set_position(50,69)\n",
    "print(npc)"
   ]
  },
  {
   "cell_type": "markdown",
   "metadata": {
    "id": "Uy8EDoqEJ8wW"
   },
   "source": [
    "📦 Podobně vytvoř různé typy předmětů (classy) které použijí rozhraní `IItem`, např. `Weapon`, `Chest`, `Food`...\n",
    "\n",
    "💡Nevytvářeli jsem takové podobné předměty už v nějakých předchozích kapitolách?"
   ]
  },
  {
   "cell_type": "code",
   "execution_count": null,
   "metadata": {
    "id": "CRB3JjMCxnHq"
   },
   "outputs": [],
   "source": [
    "# Tvoje třídy předmětů sem (např. Chest, Food)"
   ]
  },
  {
   "cell_type": "code",
   "execution_count": null,
   "metadata": {
    "id": "JaPzG3E8no5m"
   },
   "outputs": [],
   "source": [
    "# Příklad\n",
    "class Weapon(IItem):\n",
    "    damage = 0\n",
    "\n",
    "    def __init__(self, name, level, cost, damage):\n",
    "        super().__init__(name, level, cost)\n",
    "        self.damage = damage\n",
    "\n",
    "# Nešlo by použít naši třídu Weapon z předchozí kapitoli? A co rovnou třídu Sword?"
   ]
  },
  {
   "cell_type": "code",
   "execution_count": 22,
   "metadata": {
    "executionInfo": {
     "elapsed": 4,
     "status": "ok",
     "timestamp": 1745822514451,
     "user": {
      "displayName": "Jiri Konecny",
      "userId": "17507778614090359072"
     },
     "user_tz": -120
    },
    "id": "LhtNXRXozWM9"
   },
   "outputs": [],
   "source": [
    "\"\"\"\n",
    "SOLUTION!\n",
    "\"\"\"\n",
    "class Weapon(IItem):\n",
    "    def __init__(self, name, attack, defense, speed, level, cost, symbol=\"⚔️\"):\n",
    "        super().__init__(name, level, cost, symbol=symbol) # Level a cena je součástí třídy IItem\n",
    "        # Ostatní parametry patří zbrani\n",
    "        self.attack = attack\n",
    "        self.defense = defense\n",
    "        self.speed = speed\n",
    "\n",
    "    # Očekává že útočně akce budou vracet hodnotu útoku\n",
    "    @abstractmethod\n",
    "    def bash(self) -> int:\n",
    "        pass\n",
    "\n",
    "    @abstractmethod\n",
    "    def swing(self) -> int:\n",
    "        pass\n",
    "\n",
    "    # Obranná akce, ta bude vracet hodnotu obrany zbraně\n",
    "    @abstractmethod\n",
    "    def block(self) -> int:\n",
    "        pass\n",
    "\n",
    "class Sword(Weapon):\n",
    "    # Nově bude mít meč i atributy level a cost\n",
    "    # Ty važaduje prarodič IItem\n",
    "    def __init__(self, name=\"Sword\", level=1, cost=10):\n",
    "      # Level lze aplikovat pro výpočet náhodných atributů zbraně\n",
    "      attack  = 10 + random.randint(1, level)\n",
    "      defense = 5 + random.randint(1, level)\n",
    "      speed   = 7 + random.randint(1, level)\n",
    "      super().__init__(name, attack, defense, speed, level, cost, symbol=\"🗡️\")\n",
    "\n",
    "    def bash(self) -> int:\n",
    "        dmg = self.attack//2\n",
    "        print(f\"You bash with the pommel of your sword. DMG:{dmg}\")\n",
    "        return dmg\n",
    "\n",
    "    def swing(self) -> int:\n",
    "        dmg = self.attack+self.speed\n",
    "        print(f\"You swing your sword in a clean arc. DMG:{dmg}\")\n",
    "        return dmg\n",
    "\n",
    "    def block(self) -> int:\n",
    "        deff = (self.defense + self.speed)/2\n",
    "        print(f\"You blocking enemy with patronage. BLOCK:{deff}\")\n",
    "        return deff"
   ]
  },
  {
   "cell_type": "code",
   "execution_count": 25,
   "metadata": {
    "executionInfo": {
     "elapsed": 8,
     "status": "ok",
     "timestamp": 1745822536369,
     "user": {
      "displayName": "Jiri Konecny",
      "userId": "17507778614090359072"
     },
     "user_tz": -120
    },
    "id": "y2SCfOOgmZ2D"
   },
   "outputs": [],
   "source": [
    "\"\"\"\n",
    "SOLUTION!\n",
    "\"\"\"\n",
    "class Food(IItem):\n",
    "    # Přidám účinky\n",
    "    benefits = {}\n",
    "\n",
    "    def __init__(self, name, level, cost, benefits, symbol=\"🍌\"):\n",
    "        super().__init__(name, level, cost, symbol=symbol)\n",
    "        self.benefits = benefits\n",
    "    def __str__(self):\n",
    "        return super().__str__() + f\", benefits:{self.benefits}\"\n",
    "\n",
    "class Chest(IItem):\n",
    "    # Přidám obsah\n",
    "    content = {}\n",
    "\n",
    "    def __init__(self, name, level):\n",
    "        super().__init__(name, level, level*100, symbol=\"📦\")\n",
    "        self.generate_random_content()\n",
    "\n",
    "    def generate_random_content(self):\n",
    "        self.content = {}\n",
    "        self.content[\"gold\"] = random.randint(10, 10*self.level)\n",
    "        weights = [0.2, 0.5, 0.3]\n",
    "        items = [Sword(\"Ulumdiel\", self.level, self.level*25), Food(\"Banana\", 1, 1, {\"health\":10}), Food(\"Pie\", 5, 28, {\"health\":50, \"speed\":5})]\n",
    "\n",
    "        self.content[\"items\"] = random.choices(items, weights, k=random.randint(self.level//2, self.level))\n",
    "\n",
    "    def __str__(self):\n",
    "        return super().__str__() + f\", golds:{self.content.get('gold')}g, items:{[str(item) for item in self.content.get('items')]}\""
   ]
  },
  {
   "cell_type": "code",
   "execution_count": null,
   "metadata": {
    "id": "ahaL3yyPz_TY"
   },
   "outputs": [],
   "source": [
    "# Zhmotni pár předmětů a otestuj že vše funguje\n"
   ]
  },
  {
   "cell_type": "code",
   "execution_count": 23,
   "metadata": {
    "colab": {
     "base_uri": "https://localhost:8080/"
    },
    "executionInfo": {
     "elapsed": 49,
     "status": "ok",
     "timestamp": 1745822518063,
     "user": {
      "displayName": "Jiri Konecny",
      "userId": "17507778614090359072"
     },
     "user_tz": -120
    },
    "id": "k5P6jynZ1EaH",
    "outputId": "f47dcb48-5525-4574-b9f8-c626fcf25520"
   },
   "outputs": [
    {
     "name": "stdout",
     "output_type": "stream",
     "text": [
      "You bash with the pommel of your sword. DMG:6\n",
      "You swing your sword in a clean arc. DMG:22\n",
      "You blocking enemy with patronage. BLOCK:8.0\n",
      "Item  info: 🗡️Glindelf [5], cost:100g\n"
     ]
    }
   ],
   "source": [
    "\"\"\"\n",
    "SOLUTION!\n",
    "\"\"\"\n",
    "sword = Sword(\"Glindelf\", level=5, cost=100)\n",
    "sword.bash()\n",
    "sword.swing()\n",
    "sword.block()\n",
    "print(sword)"
   ]
  },
  {
   "cell_type": "code",
   "execution_count": 26,
   "metadata": {
    "colab": {
     "base_uri": "https://localhost:8080/"
    },
    "executionInfo": {
     "elapsed": 10,
     "status": "ok",
     "timestamp": 1745822538662,
     "user": {
      "displayName": "Jiri Konecny",
      "userId": "17507778614090359072"
     },
     "user_tz": -120
    },
    "id": "iLI7x9eE3Kez",
    "outputId": "1926653b-0cff-4c16-fe18-25470d4ed9e3"
   },
   "outputs": [
    {
     "name": "stdout",
     "output_type": "stream",
     "text": [
      "Item  info: 🍌banana [1], cost:10g, benefits:{'health': 20}\n"
     ]
    }
   ],
   "source": [
    "\"\"\"\n",
    "SOLUTION!\n",
    "\"\"\"\n",
    "benefits = {\"health\":20}\n",
    "banana = Food(\"banana\", level=1, cost=10, benefits=benefits)\n",
    "print(banana)"
   ]
  },
  {
   "cell_type": "code",
   "execution_count": 27,
   "metadata": {
    "colab": {
     "base_uri": "https://localhost:8080/"
    },
    "executionInfo": {
     "elapsed": 12,
     "status": "ok",
     "timestamp": 1745822541193,
     "user": {
      "displayName": "Jiri Konecny",
      "userId": "17507778614090359072"
     },
     "user_tz": -120
    },
    "id": "8qX-jzam6shH",
    "outputId": "5eb47f49-22e9-4bec-85ff-d6d61eab4d78"
   },
   "outputs": [
    {
     "name": "stdout",
     "output_type": "stream",
     "text": [
      "Item  info: 📦Chest [8], cost:800g, golds:56g, items:[\"Item  info: 🍌Pie [5], cost:28g, benefits:{'health': 50, 'speed': 5}\", \"Item  info: 🍌Banana [1], cost:1g, benefits:{'health': 10}\", \"Item  info: 🍌Banana [1], cost:1g, benefits:{'health': 10}\", \"Item  info: 🍌Banana [1], cost:1g, benefits:{'health': 10}\", \"Item  info: 🍌Banana [1], cost:1g, benefits:{'health': 10}\", \"Item  info: 🍌Pie [5], cost:28g, benefits:{'health': 50, 'speed': 5}\"]\n",
      "Item  info: 🍌Pie [5], cost:28g, benefits:{'health': 50, 'speed': 5}\n"
     ]
    }
   ],
   "source": [
    "\"\"\"\n",
    "SOLUTION!\n",
    "\"\"\"\n",
    "chest = Chest(\"Chest\", level=8)\n",
    "print(chest)\n",
    "print(chest.content.get(\"items\")[0])"
   ]
  },
  {
   "cell_type": "markdown",
   "metadata": {
    "id": "y3K859TeJdQ1"
   },
   "source": [
    "### 🌐 **Svět - World**\n",
    "\n",
    "Teď když máme všechny stavební kameny 🪨, pojďme ten svět konečně rozhýbat!\n"
   ]
  },
  {
   "cell_type": "markdown",
   "metadata": {
    "id": "-5MMIMaeyW9i"
   },
   "source": [
    "🌊 **Základní workflow při vytváření simulace RPG:**\n",
    "1. Naplnění světa věcmi a cizími postavami\n",
    "2. Definování základních herních logik - co se stane když...\n",
    "3. Vygenerování náhodného světa a mapy\n",
    "4. Interakce hráče-světa pomocí konzole\n",
    "5. Vytvoření hráčské postavy - Hero\n",
    "\n",
    "**Ouč, to asi nebude správně co?** 🤨😬 **Lets fix it!**\n"
   ]
  },
  {
   "cell_type": "code",
   "execution_count": null,
   "metadata": {
    "id": "dFzeO08186gB"
   },
   "outputs": [],
   "source": [
    "# Dej tyto kroky do správného pořadí:"
   ]
  },
  {
   "cell_type": "code",
   "execution_count": null,
   "metadata": {
    "id": "CdKihHsg-ERY"
   },
   "outputs": [],
   "source": [
    "\"\"\"\n",
    "SOLUTION!\n",
    "\"\"\"\n",
    "1. Vytvoření hráčské postavy - Hero\n",
    "2. Vygenerování náhodného světa a mapy\n",
    "3. Naplnění světa věcmi a cizími postavami\n",
    "4. Definování základních herních logik - co se stane když...\n",
    "5. Interakce hráče-světa pomocí konzole"
   ]
  },
  {
   "cell_type": "markdown",
   "metadata": {},
   "source": [
    "**Skvělé, teď když víme co máme dělat, tak není čas ztrácet čas.**\n",
    "\n",
    "Poďme poskládat svět! 🧭🗺️🎲 Nebo lépe řečeno... *naimportovat* svět!  \n",
    "\n",
    "Třída `World` už existuje, najdete ji ve složce `engine`, nebo lépe řečeno v modulu `engine.world`. \n",
    "Tento modul očekává že bude mít k dispozici třídy jako je `Map`, `Hero` atd. \n",
    "\n",
    "> Aby `World` dobře fungoval, potřebuje následující strukturu modulů:\n",
    "\n",
    "```\n",
    "from engine.map.map import Map\n",
    "from engine.map.map_elements import *\n",
    "\n",
    "from engine.generators.name_generators import generate_nickname, generate_description\n",
    "\n",
    "from engine.objects.items import *\n",
    "from engine.objects.characters import *\n",
    "from engine.objects.hero import Hero\n",
    "```"
   ]
  },
  {
   "cell_type": "markdown",
   "metadata": {},
   "source": [
    "### Task: Tvoření struktury světa 🌍\n",
    "\n",
    "Nyní je třeba vytvořit **souborou strukturu** - zatím jsem pracovali pouze v tomto *Jupyter* notebooku, teĎ to všechno pojĎme překlopit do souborů a modulů! 📤📥\n",
    "Ta by mělo vypadat takto:\n",
    "\n",
    "📄 world.py\n",
    "📄 simulator.py\n",
    "📄 __init__.py\n",
    "📂 generators/\n",
    "    📄 name_generators.py\n",
    "    📄 __init__.py\n",
    "📂 objects/\n",
    "    📄 __init__.py\n",
    "    📄 hero.py\n",
    "    📄 interfaces.py\n",
    "    📄 items.py\n",
    "    📄 characters.py\n",
    "📂 map/\n",
    "    📄 map.py\n",
    "    📄 map_elements.py\n",
    "    📄 __init__.py"
   ]
  },
  {
   "cell_type": "markdown",
   "metadata": {},
   "source": [
    "#### 📚 Projektová struktura\n",
    "\n",
    "📂 Kořenová složka\n",
    "\n",
    "- 📄 `world.py`  \n",
    "  *Třída `World`: správa celého herního světa (mapa, objekty, hráč).*\n",
    "\n",
    "- 📄 `simulator.py`  \n",
    "  *Třída `Simulator`: hlavní herní smyčka, ovládání hráče, save/load hry.*\n",
    "\n",
    "- 📄 `__init__.py`  \n",
    "  *Inicializační soubor — umožňuje import balíčku (`from project import ...`).*\n",
    "\n",
    "---\n",
    "\n",
    "📂 `generators/`\n",
    "\n",
    "- 📄 `name_generators.py`  \n",
    "  *Funkce pro náhodné generování přezdívek, jmen a popisů postav.*\n",
    "\n",
    "- 📄 `__init__.py`  \n",
    "  *Inicializace modulu `generators`.*\n",
    "\n",
    "---\n",
    "\n",
    "📂 `objects/`\n",
    "\n",
    "- 📄 `__init__.py`  \n",
    "  *Inicializace modulu `objects`.*\n",
    "\n",
    "- 📄 `hero.py`  \n",
    "  *Definice hráčské postavy (`Hero`) — specializovaná postava.*\n",
    "\n",
    "- 📄 `interfaces.py`  \n",
    "  *Rozhraní (`ICharacter`, `IItem`) — základ pro polymorfismus herních objektů.*\n",
    "\n",
    "- 📄 `items.py`  \n",
    "  *Implementace herních předmětů (`Sword`, `Potion`, `Chest`).*\n",
    "\n",
    "- 📄 `characters.py`  \n",
    "  *Implementace nepřátel a NPC postav (`Goblin`, `NPC`, `Enemy`).*\n",
    "\n",
    "---\n",
    "\n",
    "📂 `map/`\n",
    "\n",
    "- 📄 `map.py`  \n",
    "  *Třída `Map`: generování mapy, správa políček.*\n",
    "\n",
    "- 📄 `map_elements.py`  \n",
    "  *Definice typů terénu (`Grass`, `Wall`, `Water`, atd.), implementace `IMapElement`.*\n",
    "\n",
    "- 📄 `__init__.py`  \n",
    "  *Inicializace modulu `map`.*\n",
    "\n",
    "---\n",
    "\n",
    "**✨ Shrnutí koncepce**\n",
    "\n",
    "- **`objects/`** → Definice všech existujících objektů (hráči, NPC, předměty).\n",
    "- **`map/`** → Terén a struktura světa, kde se hra odehrává.\n",
    "- **`generators/`** → Generátory náhodných dat pro jména, popisy atd.\n",
    "- **`world.py` + `simulator.py`** → Řízení světa a herní smyčky.\n"
   ]
  },
  {
   "cell_type": "code",
   "execution_count": null,
   "metadata": {},
   "outputs": [],
   "source": [
    "# Otestuj svět naimportováním modulu World\n",
    "# Pozor: Budeš potřebovat naimportovat i Hero a mapové elementy\n",
    "\n",
    "# Importy - World, Hero, Map, map_elements\n",
    "from engine...\n",
    "\n",
    "# Název světa\n",
    "world_name = \"???\"\n",
    "# Vytvoř mapu\n",
    "# Terén\n",
    "world_terrain = {\"elements\":[tvoje map elementy], \"weights\":[pravděpodobnosti výskytu jednolivých elementů]}\n",
    "# Rozměry mapy\n",
    "size_w, size_h = ???, ???\n",
    "map = Map(size_w, size_h, world_terrain, name=world_name, generate_inplace=False)\n",
    "\n",
    "# Otestuj že mapa byla vytvořena správně\n",
    "# zavolej metodu generate_random() a poté render()"
   ]
  },
  {
   "cell_type": "code",
   "execution_count": null,
   "metadata": {},
   "outputs": [],
   "source": [
    "# Vytvoř svět\n",
    "\n",
    "# Vytvoř hrdinu\n",
    "main_hero = Hero(\"Glindelf\", attributes={\"strength\": 10, \"dexterity\": 8, \"intelligence\": 5}) # Uprav podle sebe\n",
    "\n",
    "# Vytvoř objekt world a předej mu maou a hrdinu, přečti si popis třídy World a jeho konstruktoru\n",
    "world = ???\n",
    "\n",
    "# Zavolej metodu generate() pro world, tím se svět vygeneruje\n"
   ]
  },
  {
   "cell_type": "code",
   "execution_count": 1,
   "metadata": {},
   "outputs": [
    {
     "name": "stdout",
     "output_type": "stream",
     "text": [
      "🧭 Starting generating Kalte world...\n",
      "🗺️ Creating map... Please wait.\n",
      "~.~~...~..#..........................~~..~.......#~....#..#~~............~........~.~....~.~...~#.#.\n",
      "..~~......~...~...~.....~.~....~#..~~.......~~.~.~..#~....~...~#.........#~......~.#...~.....~.....~\n",
      "...~~.....#~~...........#.~........~.~..............~.......~......~...........~#.....~..~.#...~....\n",
      "....~~......~.....~.........#.........~....~..........#...........#~...#....~..#................~..~\n",
      "..~..~.#.....~..~..~..#..........~.........~..~...............~~.~...~.......#.~..~.....~...~#...~.~\n",
      "...#.....................~~.....#.#......~#.~....~.~~..~~..~..#..~~#.......~...~~~..~...~...~..~....\n",
      "..#.........~.............~~..~......#.~#..#..~............~~......#...~.....~...~.~............~~..\n",
      "....~..........~....~....~.~..~..~.....~~...~..~.#.........~~~.~..~.........~..~.~~...........#.....\n",
      "~...~..~..#....~.##..~..#...~~..~..........................#....~....#...............~.~.~.....#....\n",
      ".~.......~~~......~~.#..~..........~....~...##~~....~...~..#.......~.#..~.~..#~.....~...~..~........\n",
      "....#........~..~.....~...~.~..~..~..#..........~~.~.....#~....#.....~.~........##.................~\n",
      "~................~.#...~~....#..~..~...#........~.#.~...~...#~..............~......~...........~....\n",
      "..............~...~#............~~.~....~~........#..~...~#.~~~.~.......~.............~...~..~......\n",
      "....~...~.#........~......~.#~~..~..~....~.~.~.........~......~.........~~~....~...........#..~.~~~.\n",
      "....................#...~......~.......................#.....~.........#.....#...~.~....#...~.......\n",
      "....#.....~.......~.~.~..#..~.....~~.~..............~.~.....~....#...........~..#~.~.~..~...........\n",
      "....~....~......................#..#..~...#~.....~........~......~..~#......~.~.............~~...#..\n",
      ".~......#..~~~.~~..~~..~.~...~.....#~........~~.....~..~.........~~...~.~.~.......~.......#.~....#..\n",
      "...~.#~..~~.....~..~........~~.##............~......#..#...~.......~.#......~~.#~.........#~..~~..~.\n",
      "...~~.#..........~...................#....~#...~~#...#......~........~....~.~...~.....#...........#.\n",
      ".~.#................#...~.~....#...~...........#.....~....................~..~.~.......~...~.~#.~...\n",
      "...#..................~........~~.....~.~..~~.~..........~.......~~..~........~~.........~.~..~..~.~\n",
      ".~..~......#.......#.....~~......~.........~....##~.....~..##........~......~.~..~.~....~....~..~..#\n",
      "~....~....#.....~~..................~#.....~..#...~........~.....~....~.~.................##....~..~\n",
      ".#.~.........~.............~#~#......~......~#...~~..~..~~...~........#.~~.......~~..~.....~.....#~.\n",
      ".~....#..................~..........~.......~.~..#..~.~.#....~~~..~.~.............~..~~....~.#......\n",
      "........~~........#.~.~.~.~...#.~...................~......~......~........#......~~..~.~#.......~..\n",
      "~~.##...#.~......#.#.....~............#...~..~~~.....~.....~.~.~.........~.~#........~.~.~....~....#\n",
      "....~#....~.....~~.~........~.....~.....~.~..............#....~~...........#..~~......~....~........\n",
      ".~.....~......~.~~........~.#.~..~~.~..#...~.~.......~~........~~.~.~.................~.............\n",
      "..~.............~......~...~....#.~...#...#..........#...#~........#.........~#~................~.~.\n",
      "............~.........#..~~......~.#......~...........~~....~~.~.......~....~~.~.....~~...#.........\n",
      ".......~...#.~..~...~......~................#........~....~#.~.....#........~..#~.~..~....#...~...~.\n",
      "~.......~..#......#.~~.~~..~.........#...~.~.#......~#.....~~.~...~.~.~.~.....~...~..~.............~\n",
      "..~.....................#.~...~....~.......~.........~.~..~.~.~........~~....~..........#..#....~...\n",
      "~..#..~..~#...........................~~#............~~......#.~...~~......~........................\n",
      "........#.......~.....~~...~...~~.~.....#.....~.....~.~.~.......~..~..~...~...........#....~~...~...\n",
      "...........~..~...#....##..~~.~...................#~........................~~..............~.~.....\n",
      "................##..~~.....~......~.........~....~............#....~...~~.~....#....~...~...........\n",
      ".~.~~~...........#........~~...........~......#....~..~.........~.~.......~....~....#.......~~......\n",
      "...~#...~~~...........~.~...~.~...~...............~#........~.#~......~..........#~.........~......~\n",
      ".~.........~..........#...~.....................~........~.~.~..~#.~~.....~#......~#~..~~...........\n",
      ".~...~..............~.........~.#....~.....~~...#.#......~...............~.~.....#..........~.....#.\n",
      ".........~~....~.~....~......~.....~........~...#...~~....~.~.~....#......~......~............#~..~.\n",
      ".~.......~.##.................##.........~...~.~#...............~.......~..~.........~.~.~~.#.....#.\n",
      "~.~...........~.....~...........#.....~~.......~..~.........~#...........~..~~....#...#...~...~~....\n",
      ".#...~...~.~.....~........~~.~~~....~.~......#..#...~....~.........~~..~#~.........~~#.....~........\n",
      "~..#~......~......~.....~~..................#...~......~#...........#.....#...............~~#.~.....\n",
      "...~.......#.....~..~~.~..~..........~#........~.......~......~.~~...~.~....................~....#~.\n",
      ".....#....#~~.......#.......~.#.....~.........~...#...~.#.................#~......~....~...~...#....\n"
     ]
    }
   ],
   "source": [
    "\"\"\"\n",
    "SOLUTION!\n",
    "\"\"\"\n",
    "from engine.world import World\n",
    "from engine.objects.hero import Hero\n",
    "from engine.map.map import Map\n",
    "from engine.map.map_elements import *\n",
    "\n",
    "\n",
    "world_name = \"Kalte\"\n",
    "world_terrain = {\"elements\":[Grass, Water, Wall], \"weights\":[0.8, 0.15, 0.05]}\n",
    "size_w, size_h = 100, 50\n",
    "map = Map(size_w, size_h, world_terrain, name=world_name, generate_inplace=False)\n",
    "\n",
    "main_hero = Hero(\"Glindelf\", attributes={\"strength\": 10, \"dexterity\": 8, \"intelligence\": 5})\n",
    "world = World(map, main_hero)\n",
    "\n",
    "world.generate()\n",
    "world.map.render()"
   ]
  },
  {
   "cell_type": "markdown",
   "metadata": {
    "id": "Ke_1_rdN4sj6"
   },
   "source": [
    "#### ⚡🎮 **Simulace**\n",
    "\n",
    "Máme svět, tak teď je třeba s ním začít točit! 🛞 To zařídí třída `Simulator`, kterou výjmečně už nemusíte psát - to jsem udělal za vás. Pokud jste v předchozích částech postupovali správně, simulátor by měl běžet. 😎 **Samozřejmě, je zde velký prostor k vylepšením!** 🚀 To už nechám čistě na vaši fantazii..."
   ]
  },
  {
   "cell_type": "code",
   "execution_count": null,
   "metadata": {},
   "outputs": [],
   "source": [
    "# Naimportuj si třídu Simulator z balíčku engine.simulator\n",
    "# Přečti si co Simulator vyžaduje jako konstrukční parametry\n",
    "\n",
    "# Zavolej metodu start_game() - Enjoy!"
   ]
  },
  {
   "cell_type": "code",
   "execution_count": 2,
   "metadata": {},
   "outputs": [
    {
     "name": "stdout",
     "output_type": "stream",
     "text": [
      "👋 Hra ukončena.\n"
     ]
    }
   ],
   "source": [
    "\"\"\"\n",
    "SOLUTION!\n",
    "\"\"\"\n",
    "from engine.simulator import Simulator\n",
    "\n",
    "# Run simulation\n",
    "game = Simulator(world)\n",
    "game.start_game()\n"
   ]
  }
 ],
 "metadata": {
  "colab": {
   "authorship_tag": "ABX9TyMtTZD4oz12GspEUTT/Vt6u",
   "provenance": [],
   "toc_visible": true
  },
  "kernelspec": {
   "display_name": "Python 3",
   "name": "python3"
  },
  "language_info": {
   "codemirror_mode": {
    "name": "ipython",
    "version": 3
   },
   "file_extension": ".py",
   "mimetype": "text/x-python",
   "name": "python",
   "nbconvert_exporter": "python",
   "pygments_lexer": "ipython3",
   "version": "3.10.11"
  }
 },
 "nbformat": 4,
 "nbformat_minor": 0
}
